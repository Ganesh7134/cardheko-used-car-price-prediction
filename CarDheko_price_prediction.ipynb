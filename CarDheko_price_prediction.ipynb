{
  "nbformat": 4,
  "nbformat_minor": 0,
  "metadata": {
    "colab": {
      "provenance": [],
      "mount_file_id": "1lPaikH8iICI_AUIeYQVKBZSgbzYZEOT6",
      "authorship_tag": "ABX9TyOYHau4+qvuPHlUjsLxzsO1",
      "include_colab_link": true
    },
    "kernelspec": {
      "name": "python3",
      "display_name": "Python 3"
    },
    "language_info": {
      "name": "python"
    }
  },
  "cells": [
    {
      "cell_type": "markdown",
      "metadata": {
        "id": "view-in-github",
        "colab_type": "text"
      },
      "source": [
        "<a href=\"https://colab.research.google.com/github/Ganesh7134/cardheko-used-car-price-prediction/blob/main/CarDheko_price_prediction.ipynb\" target=\"_parent\"><img src=\"https://colab.research.google.com/assets/colab-badge.svg\" alt=\"Open In Colab\"/></a>"
      ]
    },
    {
      "cell_type": "code",
      "execution_count": 2,
      "metadata": {
        "id": "FHAPHmhIN2Mh"
      },
      "outputs": [],
      "source": [
        "import pandas as pd"
      ]
    },
    {
      "cell_type": "code",
      "source": [
        "df1 = pd.read_csv(\"/content/drive/MyDrive/kolkata.csv\")\n",
        "df2 = pd.read_csv(\"/content/drive/MyDrive/jaipur.csv\")\n",
        "df3 = pd.read_csv(\"/content/drive/MyDrive/hyderabad.csv\")\n",
        "df4 = pd.read_csv(\"/content/drive/MyDrive/delhi.csv\")\n",
        "df5 = pd.read_csv(\"/content/drive/MyDrive/banglore.csv\")\n",
        "df6 = pd.read_csv(\"/content/drive/MyDrive/chennai.csv\")\n",
        "df = pd.concat([df1,df2,df3,df4,df5,df6],axis=0)\n",
        "df.head()"
      ],
      "metadata": {
        "colab": {
          "base_uri": "https://localhost:8080/",
          "height": 293
        },
        "id": "ZFTVLFf0OXQj",
        "outputId": "72479c47-1275-42f8-fca8-536383eeee7c"
      },
      "execution_count": 3,
      "outputs": [
        {
          "output_type": "execute_result",
          "data": {
            "text/plain": [
              "                                      new_car_detail  \\\n",
              "0  {'it': 0, 'ft': 'Petrol', 'bt': 'Sedan', 'km':...   \n",
              "1  {'it': 0, 'ft': 'Petrol', 'bt': 'Hatchback', '...   \n",
              "2  {'it': 0, 'ft': 'Petrol', 'bt': 'SUV', 'km': '...   \n",
              "3  {'it': 0, 'ft': 'Petrol', 'bt': 'Hatchback', '...   \n",
              "4  {'it': 0, 'ft': 'Diesel', 'bt': 'SUV', 'km': '...   \n",
              "\n",
              "                                    new_car_overview  \\\n",
              "0  {'heading': 'Car overview', 'top': [{'key': 'R...   \n",
              "1  {'heading': 'Car overview', 'top': [{'key': 'R...   \n",
              "2  {'heading': 'Car overview', 'top': [{'key': 'R...   \n",
              "3  {'heading': 'Car overview', 'top': [{'key': 'R...   \n",
              "4  {'heading': 'Car overview', 'top': [{'key': 'R...   \n",
              "\n",
              "                                     new_car_feature  \\\n",
              "0  {'heading': 'Features', 'top': [{'value': 'Pow...   \n",
              "1  {'heading': 'Features', 'top': [{'value': 'Pow...   \n",
              "2  {'heading': 'Features', 'top': [{'value': 'Pow...   \n",
              "3  {'heading': 'Features', 'top': [{'value': 'Pow...   \n",
              "4  {'heading': 'Features', 'top': [{'value': 'Pow...   \n",
              "\n",
              "                                       new_car_specs  \\\n",
              "0  {'heading': 'Specifications', 'top': [{'key': ...   \n",
              "1  {'heading': 'Specifications', 'top': [{'key': ...   \n",
              "2  {'heading': 'Specifications', 'top': [{'key': ...   \n",
              "3  {'heading': 'Specifications', 'top': [{'key': ...   \n",
              "4  {'heading': 'Specifications', 'top': [{'key': ...   \n",
              "\n",
              "                                           car_links  \n",
              "0  https://www.cardekho.com/used-car-details/used...  \n",
              "1  https://www.cardekho.com/buy-used-car-details/...  \n",
              "2  https://www.cardekho.com/used-car-details/used...  \n",
              "3  https://www.cardekho.com/buy-used-car-details/...  \n",
              "4  https://www.cardekho.com/used-car-details/used...  "
            ],
            "text/html": [
              "\n",
              "  <div id=\"df-80b63508-4f80-4153-b2a6-8a12efbf1b31\" class=\"colab-df-container\">\n",
              "    <div>\n",
              "<style scoped>\n",
              "    .dataframe tbody tr th:only-of-type {\n",
              "        vertical-align: middle;\n",
              "    }\n",
              "\n",
              "    .dataframe tbody tr th {\n",
              "        vertical-align: top;\n",
              "    }\n",
              "\n",
              "    .dataframe thead th {\n",
              "        text-align: right;\n",
              "    }\n",
              "</style>\n",
              "<table border=\"1\" class=\"dataframe\">\n",
              "  <thead>\n",
              "    <tr style=\"text-align: right;\">\n",
              "      <th></th>\n",
              "      <th>new_car_detail</th>\n",
              "      <th>new_car_overview</th>\n",
              "      <th>new_car_feature</th>\n",
              "      <th>new_car_specs</th>\n",
              "      <th>car_links</th>\n",
              "    </tr>\n",
              "  </thead>\n",
              "  <tbody>\n",
              "    <tr>\n",
              "      <th>0</th>\n",
              "      <td>{'it': 0, 'ft': 'Petrol', 'bt': 'Sedan', 'km':...</td>\n",
              "      <td>{'heading': 'Car overview', 'top': [{'key': 'R...</td>\n",
              "      <td>{'heading': 'Features', 'top': [{'value': 'Pow...</td>\n",
              "      <td>{'heading': 'Specifications', 'top': [{'key': ...</td>\n",
              "      <td>https://www.cardekho.com/used-car-details/used...</td>\n",
              "    </tr>\n",
              "    <tr>\n",
              "      <th>1</th>\n",
              "      <td>{'it': 0, 'ft': 'Petrol', 'bt': 'Hatchback', '...</td>\n",
              "      <td>{'heading': 'Car overview', 'top': [{'key': 'R...</td>\n",
              "      <td>{'heading': 'Features', 'top': [{'value': 'Pow...</td>\n",
              "      <td>{'heading': 'Specifications', 'top': [{'key': ...</td>\n",
              "      <td>https://www.cardekho.com/buy-used-car-details/...</td>\n",
              "    </tr>\n",
              "    <tr>\n",
              "      <th>2</th>\n",
              "      <td>{'it': 0, 'ft': 'Petrol', 'bt': 'SUV', 'km': '...</td>\n",
              "      <td>{'heading': 'Car overview', 'top': [{'key': 'R...</td>\n",
              "      <td>{'heading': 'Features', 'top': [{'value': 'Pow...</td>\n",
              "      <td>{'heading': 'Specifications', 'top': [{'key': ...</td>\n",
              "      <td>https://www.cardekho.com/used-car-details/used...</td>\n",
              "    </tr>\n",
              "    <tr>\n",
              "      <th>3</th>\n",
              "      <td>{'it': 0, 'ft': 'Petrol', 'bt': 'Hatchback', '...</td>\n",
              "      <td>{'heading': 'Car overview', 'top': [{'key': 'R...</td>\n",
              "      <td>{'heading': 'Features', 'top': [{'value': 'Pow...</td>\n",
              "      <td>{'heading': 'Specifications', 'top': [{'key': ...</td>\n",
              "      <td>https://www.cardekho.com/buy-used-car-details/...</td>\n",
              "    </tr>\n",
              "    <tr>\n",
              "      <th>4</th>\n",
              "      <td>{'it': 0, 'ft': 'Diesel', 'bt': 'SUV', 'km': '...</td>\n",
              "      <td>{'heading': 'Car overview', 'top': [{'key': 'R...</td>\n",
              "      <td>{'heading': 'Features', 'top': [{'value': 'Pow...</td>\n",
              "      <td>{'heading': 'Specifications', 'top': [{'key': ...</td>\n",
              "      <td>https://www.cardekho.com/used-car-details/used...</td>\n",
              "    </tr>\n",
              "  </tbody>\n",
              "</table>\n",
              "</div>\n",
              "    <div class=\"colab-df-buttons\">\n",
              "\n",
              "  <div class=\"colab-df-container\">\n",
              "    <button class=\"colab-df-convert\" onclick=\"convertToInteractive('df-80b63508-4f80-4153-b2a6-8a12efbf1b31')\"\n",
              "            title=\"Convert this dataframe to an interactive table.\"\n",
              "            style=\"display:none;\">\n",
              "\n",
              "  <svg xmlns=\"http://www.w3.org/2000/svg\" height=\"24px\" viewBox=\"0 -960 960 960\">\n",
              "    <path d=\"M120-120v-720h720v720H120Zm60-500h600v-160H180v160Zm220 220h160v-160H400v160Zm0 220h160v-160H400v160ZM180-400h160v-160H180v160Zm440 0h160v-160H620v160ZM180-180h160v-160H180v160Zm440 0h160v-160H620v160Z\"/>\n",
              "  </svg>\n",
              "    </button>\n",
              "\n",
              "  <style>\n",
              "    .colab-df-container {\n",
              "      display:flex;\n",
              "      gap: 12px;\n",
              "    }\n",
              "\n",
              "    .colab-df-convert {\n",
              "      background-color: #E8F0FE;\n",
              "      border: none;\n",
              "      border-radius: 50%;\n",
              "      cursor: pointer;\n",
              "      display: none;\n",
              "      fill: #1967D2;\n",
              "      height: 32px;\n",
              "      padding: 0 0 0 0;\n",
              "      width: 32px;\n",
              "    }\n",
              "\n",
              "    .colab-df-convert:hover {\n",
              "      background-color: #E2EBFA;\n",
              "      box-shadow: 0px 1px 2px rgba(60, 64, 67, 0.3), 0px 1px 3px 1px rgba(60, 64, 67, 0.15);\n",
              "      fill: #174EA6;\n",
              "    }\n",
              "\n",
              "    .colab-df-buttons div {\n",
              "      margin-bottom: 4px;\n",
              "    }\n",
              "\n",
              "    [theme=dark] .colab-df-convert {\n",
              "      background-color: #3B4455;\n",
              "      fill: #D2E3FC;\n",
              "    }\n",
              "\n",
              "    [theme=dark] .colab-df-convert:hover {\n",
              "      background-color: #434B5C;\n",
              "      box-shadow: 0px 1px 3px 1px rgba(0, 0, 0, 0.15);\n",
              "      filter: drop-shadow(0px 1px 2px rgba(0, 0, 0, 0.3));\n",
              "      fill: #FFFFFF;\n",
              "    }\n",
              "  </style>\n",
              "\n",
              "    <script>\n",
              "      const buttonEl =\n",
              "        document.querySelector('#df-80b63508-4f80-4153-b2a6-8a12efbf1b31 button.colab-df-convert');\n",
              "      buttonEl.style.display =\n",
              "        google.colab.kernel.accessAllowed ? 'block' : 'none';\n",
              "\n",
              "      async function convertToInteractive(key) {\n",
              "        const element = document.querySelector('#df-80b63508-4f80-4153-b2a6-8a12efbf1b31');\n",
              "        const dataTable =\n",
              "          await google.colab.kernel.invokeFunction('convertToInteractive',\n",
              "                                                    [key], {});\n",
              "        if (!dataTable) return;\n",
              "\n",
              "        const docLinkHtml = 'Like what you see? Visit the ' +\n",
              "          '<a target=\"_blank\" href=https://colab.research.google.com/notebooks/data_table.ipynb>data table notebook</a>'\n",
              "          + ' to learn more about interactive tables.';\n",
              "        element.innerHTML = '';\n",
              "        dataTable['output_type'] = 'display_data';\n",
              "        await google.colab.output.renderOutput(dataTable, element);\n",
              "        const docLink = document.createElement('div');\n",
              "        docLink.innerHTML = docLinkHtml;\n",
              "        element.appendChild(docLink);\n",
              "      }\n",
              "    </script>\n",
              "  </div>\n",
              "\n",
              "\n",
              "<div id=\"df-b97f6781-5ab5-41ba-8e70-df9f1aef3c5f\">\n",
              "  <button class=\"colab-df-quickchart\" onclick=\"quickchart('df-b97f6781-5ab5-41ba-8e70-df9f1aef3c5f')\"\n",
              "            title=\"Suggest charts\"\n",
              "            style=\"display:none;\">\n",
              "\n",
              "<svg xmlns=\"http://www.w3.org/2000/svg\" height=\"24px\"viewBox=\"0 0 24 24\"\n",
              "     width=\"24px\">\n",
              "    <g>\n",
              "        <path d=\"M19 3H5c-1.1 0-2 .9-2 2v14c0 1.1.9 2 2 2h14c1.1 0 2-.9 2-2V5c0-1.1-.9-2-2-2zM9 17H7v-7h2v7zm4 0h-2V7h2v10zm4 0h-2v-4h2v4z\"/>\n",
              "    </g>\n",
              "</svg>\n",
              "  </button>\n",
              "\n",
              "<style>\n",
              "  .colab-df-quickchart {\n",
              "      --bg-color: #E8F0FE;\n",
              "      --fill-color: #1967D2;\n",
              "      --hover-bg-color: #E2EBFA;\n",
              "      --hover-fill-color: #174EA6;\n",
              "      --disabled-fill-color: #AAA;\n",
              "      --disabled-bg-color: #DDD;\n",
              "  }\n",
              "\n",
              "  [theme=dark] .colab-df-quickchart {\n",
              "      --bg-color: #3B4455;\n",
              "      --fill-color: #D2E3FC;\n",
              "      --hover-bg-color: #434B5C;\n",
              "      --hover-fill-color: #FFFFFF;\n",
              "      --disabled-bg-color: #3B4455;\n",
              "      --disabled-fill-color: #666;\n",
              "  }\n",
              "\n",
              "  .colab-df-quickchart {\n",
              "    background-color: var(--bg-color);\n",
              "    border: none;\n",
              "    border-radius: 50%;\n",
              "    cursor: pointer;\n",
              "    display: none;\n",
              "    fill: var(--fill-color);\n",
              "    height: 32px;\n",
              "    padding: 0;\n",
              "    width: 32px;\n",
              "  }\n",
              "\n",
              "  .colab-df-quickchart:hover {\n",
              "    background-color: var(--hover-bg-color);\n",
              "    box-shadow: 0 1px 2px rgba(60, 64, 67, 0.3), 0 1px 3px 1px rgba(60, 64, 67, 0.15);\n",
              "    fill: var(--button-hover-fill-color);\n",
              "  }\n",
              "\n",
              "  .colab-df-quickchart-complete:disabled,\n",
              "  .colab-df-quickchart-complete:disabled:hover {\n",
              "    background-color: var(--disabled-bg-color);\n",
              "    fill: var(--disabled-fill-color);\n",
              "    box-shadow: none;\n",
              "  }\n",
              "\n",
              "  .colab-df-spinner {\n",
              "    border: 2px solid var(--fill-color);\n",
              "    border-color: transparent;\n",
              "    border-bottom-color: var(--fill-color);\n",
              "    animation:\n",
              "      spin 1s steps(1) infinite;\n",
              "  }\n",
              "\n",
              "  @keyframes spin {\n",
              "    0% {\n",
              "      border-color: transparent;\n",
              "      border-bottom-color: var(--fill-color);\n",
              "      border-left-color: var(--fill-color);\n",
              "    }\n",
              "    20% {\n",
              "      border-color: transparent;\n",
              "      border-left-color: var(--fill-color);\n",
              "      border-top-color: var(--fill-color);\n",
              "    }\n",
              "    30% {\n",
              "      border-color: transparent;\n",
              "      border-left-color: var(--fill-color);\n",
              "      border-top-color: var(--fill-color);\n",
              "      border-right-color: var(--fill-color);\n",
              "    }\n",
              "    40% {\n",
              "      border-color: transparent;\n",
              "      border-right-color: var(--fill-color);\n",
              "      border-top-color: var(--fill-color);\n",
              "    }\n",
              "    60% {\n",
              "      border-color: transparent;\n",
              "      border-right-color: var(--fill-color);\n",
              "    }\n",
              "    80% {\n",
              "      border-color: transparent;\n",
              "      border-right-color: var(--fill-color);\n",
              "      border-bottom-color: var(--fill-color);\n",
              "    }\n",
              "    90% {\n",
              "      border-color: transparent;\n",
              "      border-bottom-color: var(--fill-color);\n",
              "    }\n",
              "  }\n",
              "</style>\n",
              "\n",
              "  <script>\n",
              "    async function quickchart(key) {\n",
              "      const quickchartButtonEl =\n",
              "        document.querySelector('#' + key + ' button');\n",
              "      quickchartButtonEl.disabled = true;  // To prevent multiple clicks.\n",
              "      quickchartButtonEl.classList.add('colab-df-spinner');\n",
              "      try {\n",
              "        const charts = await google.colab.kernel.invokeFunction(\n",
              "            'suggestCharts', [key], {});\n",
              "      } catch (error) {\n",
              "        console.error('Error during call to suggestCharts:', error);\n",
              "      }\n",
              "      quickchartButtonEl.classList.remove('colab-df-spinner');\n",
              "      quickchartButtonEl.classList.add('colab-df-quickchart-complete');\n",
              "    }\n",
              "    (() => {\n",
              "      let quickchartButtonEl =\n",
              "        document.querySelector('#df-b97f6781-5ab5-41ba-8e70-df9f1aef3c5f button');\n",
              "      quickchartButtonEl.style.display =\n",
              "        google.colab.kernel.accessAllowed ? 'block' : 'none';\n",
              "    })();\n",
              "  </script>\n",
              "</div>\n",
              "\n",
              "    </div>\n",
              "  </div>\n"
            ]
          },
          "metadata": {},
          "execution_count": 3
        }
      ]
    },
    {
      "cell_type": "code",
      "source": [
        "len(df)"
      ],
      "metadata": {
        "colab": {
          "base_uri": "https://localhost:8080/"
        },
        "id": "b7fUFXEwQe8u",
        "outputId": "a944262d-e981-481a-89f3-2ef0d0664afb"
      },
      "execution_count": 4,
      "outputs": [
        {
          "output_type": "execute_result",
          "data": {
            "text/plain": [
              "8369"
            ]
          },
          "metadata": {},
          "execution_count": 4
        }
      ]
    },
    {
      "cell_type": "code",
      "source": [
        "fuel_type = []\n",
        "body_type = []\n",
        "kilometers = []\n",
        "car_type = []\n",
        "owner_no = []\n",
        "owner = []\n",
        "original_equip_manufacture = []\n",
        "car_model = []\n",
        "model_year = []\n",
        "car_variant_name = []\n",
        "asking_price_of_the_car = []\n",
        "actual_price_of_the_car = []\n",
        "negotiable_status = []\n",
        "chance_of_selling = []\n",
        "\n",
        "for i in df[\"new_car_detail\"]:\n",
        "    # Use eval cautiously, ensuring data is trusted and validated\n",
        "    car_dict = eval(i) # Reading configuration files: If your configuration files are stored in a format that can be evaluated as Python code (e.g., JSON), you can use eval() to read them.\n",
        "    fuel_type.append(car_dict['ft'])  # Access specific key\n",
        "    body_type.append(car_dict[\"bt\"])\n",
        "    kilometers.append(car_dict[\"km\"])\n",
        "    car_type.append(car_dict[\"transmission\"])\n",
        "    owner_no.append(car_dict[\"ownerNo\"])\n",
        "    owner.append(car_dict[\"owner\"])\n",
        "    original_equip_manufacture.append(car_dict[\"oem\"])\n",
        "    car_model.append(car_dict[\"model\"])\n",
        "    model_year.append(car_dict[\"modelYear\"])\n",
        "    car_variant_name.append(car_dict[\"variantName\"])\n",
        "    if car_dict[\"price\"].strip(\" \").endswith(\"h\"):\n",
        "      # print(car_dict[\"price\"])\n",
        "      asking_price_of_the_car.append(int(float(car_dict[\"price\"].replace(\"₹\",\"\").replace(\" Lakh\",\"\").replace(\",\",\"\").strip(\" \"))*100000))\n",
        "    elif car_dict[\"price\"].strip(\" \").endswith(\"e\"):\n",
        "      asking_price_of_the_car.append(int(float(car_dict[\"price\"].replace(\"₹\",\"\").replace(\" Crore\",\"\").replace(\",\",\"\").strip(\" \"))*10000000))\n",
        "    else:\n",
        "      asking_price_of_the_car.append(int(car_dict[\"price\"].replace(\"₹\",\"\").replace(\",\",\"\")))\n",
        "    if car_dict[\"priceActual\"].strip(\" \").endswith(\"h\"):\n",
        "      # print(car_dict[\"price\"])\n",
        "      actual_price_of_the_car.append(int(float(car_dict[\"priceActual\"].replace(\"₹\",\"\").replace(\" Lakh\",\"\").replace(\",\",\"\").strip(\" \"))*100000))\n",
        "    elif car_dict[\"priceActual\"].strip(\" \").endswith(\"e\"):\n",
        "      actual_price_of_the_car.append(int(float(car_dict[\"priceActual\"].replace(\"₹\",\"\").replace(\" Crore\",\"\").replace(\",\",\"\").strip(\" \"))*10000000))\n",
        "    else:\n",
        "      actual_price_of_the_car.append(int(car_dict[\"priceActual\"].replace(\"₹\",\"\").replace(\",\",\"\").replace(\"\",\"0\")))\n",
        "    negotiable_status.append(car_dict[\"priceFixedText\"])\n",
        "    chance_of_selling.append(car_dict[\"trendingText\"][\"desc\"])"
      ],
      "metadata": {
        "id": "FMS67nCMQiQn"
      },
      "execution_count": 5,
      "outputs": []
    },
    {
      "cell_type": "code",
      "source": [
        "len(actual_price_of_the_car)"
      ],
      "metadata": {
        "colab": {
          "base_uri": "https://localhost:8080/"
        },
        "id": "QoCs3FjYQsVt",
        "outputId": "cfe5deeb-6e46-4fdd-d0f7-2e60900d7687"
      },
      "execution_count": 6,
      "outputs": [
        {
          "output_type": "execute_result",
          "data": {
            "text/plain": [
              "8369"
            ]
          },
          "metadata": {},
          "execution_count": 6
        }
      ]
    },
    {
      "cell_type": "code",
      "source": [
        "c = 0\n",
        "reg_year = []\n",
        "for i in df[\"new_car_overview\"]:\n",
        "  car_dict = eval(i)\n",
        "  if car_dict[\"top\"][0][\"key\"] == \"Registration Year\":\n",
        "    reg_year.append(car_dict[\"top\"][0][\"value\"])\n",
        "  else:\n",
        "    reg_year.append(0)"
      ],
      "metadata": {
        "id": "dVRUnKAhnRvj"
      },
      "execution_count": 7,
      "outputs": []
    },
    {
      "cell_type": "code",
      "source": [
        "len(reg_year)"
      ],
      "metadata": {
        "colab": {
          "base_uri": "https://localhost:8080/"
        },
        "id": "u9gVi7i970px",
        "outputId": "cb658fdb-98ed-4f19-d868-4e5736ee4789"
      },
      "execution_count": 8,
      "outputs": [
        {
          "output_type": "execute_result",
          "data": {
            "text/plain": [
              "8369"
            ]
          },
          "metadata": {},
          "execution_count": 8
        }
      ]
    },
    {
      "cell_type": "code",
      "source": [
        "date = pd.DataFrame({\"registered_year\":reg_year})"
      ],
      "metadata": {
        "id": "ICSLecul74uV"
      },
      "execution_count": 9,
      "outputs": []
    },
    {
      "cell_type": "code",
      "source": [
        "D = pd.to_datetime(date[\"registered_year\"])"
      ],
      "metadata": {
        "id": "rhJwKfJ28RS1"
      },
      "execution_count": 10,
      "outputs": []
    },
    {
      "cell_type": "code",
      "source": [
        "register_year = []\n",
        "for i in D.dt.strftime(\"%m-%y\"):\n",
        "  register_year.append(i)"
      ],
      "metadata": {
        "id": "bo2l7hPk8RVV"
      },
      "execution_count": 11,
      "outputs": []
    },
    {
      "cell_type": "code",
      "source": [
        "len(register_year)"
      ],
      "metadata": {
        "colab": {
          "base_uri": "https://localhost:8080/"
        },
        "id": "rwQQfkk08Rav",
        "outputId": "6f004fca-ff14-43a7-a908-d7c5b2007ce7"
      },
      "execution_count": 12,
      "outputs": [
        {
          "output_type": "execute_result",
          "data": {
            "text/plain": [
              "8369"
            ]
          },
          "metadata": {},
          "execution_count": 12
        }
      ]
    },
    {
      "cell_type": "code",
      "source": [
        "in_val = []\n",
        "for i in df[\"new_car_overview\"]:\n",
        "  car_dict = eval(i)\n",
        "  if car_dict[\"top\"][1][\"key\"] == \"Insurance Validity\":\n",
        "    in_val.append(car_dict[\"top\"][1][\"value\"])\n",
        "  else:\n",
        "    in_val.append(0)"
      ],
      "metadata": {
        "id": "4oklE4_-9T6u"
      },
      "execution_count": 13,
      "outputs": []
    },
    {
      "cell_type": "code",
      "source": [
        "c = 0\n",
        "seats = []\n",
        "for i in df[\"new_car_overview\"]:\n",
        "  car_dict = eval(i)\n",
        "  if car_dict[\"top\"][3][\"key\"] == \"Seats\":\n",
        "    seats.append(car_dict[\"top\"][3][\"value\"])\n",
        "  else:\n",
        "    seats.append(0)"
      ],
      "metadata": {
        "id": "1ULfEgd-9T9T"
      },
      "execution_count": 14,
      "outputs": []
    },
    {
      "cell_type": "code",
      "source": [
        "c = 0\n",
        "mil = []\n",
        "for i in df[\"new_car_specs\"]:\n",
        "  car_dict = eval(i)\n",
        "  if car_dict[\"top\"][0][\"key\"] == \"Mileage\":\n",
        "    mil.append(car_dict[\"top\"][0][\"value\"])\n",
        "  else:\n",
        "    mil.append(0)"
      ],
      "metadata": {
        "id": "iHXQqrWcdwsu"
      },
      "execution_count": 15,
      "outputs": []
    },
    {
      "cell_type": "code",
      "source": [
        "# Add columns to the DataFrame\n",
        "df['fuel_type'] = fuel_type\n",
        "df['body_type'] = body_type\n",
        "df['kilometers'] = kilometers\n",
        "df['car_type'] = car_type\n",
        "df['owner_no'] = owner_no\n",
        "df['owner'] = owner\n",
        "df['original_equip_manufacture'] = original_equip_manufacture\n",
        "df['car_model'] = car_model\n",
        "df['model_year'] = model_year\n",
        "df['car_variant_name'] = car_variant_name\n",
        "df['asking_price_of_the_car'] = asking_price_of_the_car\n",
        "df['actual_price_of_the_car'] = actual_price_of_the_car\n",
        "df['negotiable_status'] = negotiable_status\n",
        "df['chance_of_selling'] = chance_of_selling\n",
        "df['milege'] = mil\n",
        "df['seats'] = seats\n",
        "df['insurance_validation'] = in_val\n",
        "df['register_year'] = register_year"
      ],
      "metadata": {
        "id": "tUDiNmLjAjZ1"
      },
      "execution_count": 16,
      "outputs": []
    },
    {
      "cell_type": "code",
      "source": [
        "df.head()"
      ],
      "metadata": {
        "colab": {
          "base_uri": "https://localhost:8080/",
          "height": 429
        },
        "id": "jcJ-md4s9T_J",
        "outputId": "bf617716-b8a4-4dd9-9b1e-15054b3541f7"
      },
      "execution_count": 17,
      "outputs": [
        {
          "output_type": "execute_result",
          "data": {
            "text/plain": [
              "                                      new_car_detail  \\\n",
              "0  {'it': 0, 'ft': 'Petrol', 'bt': 'Sedan', 'km':...   \n",
              "1  {'it': 0, 'ft': 'Petrol', 'bt': 'Hatchback', '...   \n",
              "2  {'it': 0, 'ft': 'Petrol', 'bt': 'SUV', 'km': '...   \n",
              "3  {'it': 0, 'ft': 'Petrol', 'bt': 'Hatchback', '...   \n",
              "4  {'it': 0, 'ft': 'Diesel', 'bt': 'SUV', 'km': '...   \n",
              "\n",
              "                                    new_car_overview  \\\n",
              "0  {'heading': 'Car overview', 'top': [{'key': 'R...   \n",
              "1  {'heading': 'Car overview', 'top': [{'key': 'R...   \n",
              "2  {'heading': 'Car overview', 'top': [{'key': 'R...   \n",
              "3  {'heading': 'Car overview', 'top': [{'key': 'R...   \n",
              "4  {'heading': 'Car overview', 'top': [{'key': 'R...   \n",
              "\n",
              "                                     new_car_feature  \\\n",
              "0  {'heading': 'Features', 'top': [{'value': 'Pow...   \n",
              "1  {'heading': 'Features', 'top': [{'value': 'Pow...   \n",
              "2  {'heading': 'Features', 'top': [{'value': 'Pow...   \n",
              "3  {'heading': 'Features', 'top': [{'value': 'Pow...   \n",
              "4  {'heading': 'Features', 'top': [{'value': 'Pow...   \n",
              "\n",
              "                                       new_car_specs  \\\n",
              "0  {'heading': 'Specifications', 'top': [{'key': ...   \n",
              "1  {'heading': 'Specifications', 'top': [{'key': ...   \n",
              "2  {'heading': 'Specifications', 'top': [{'key': ...   \n",
              "3  {'heading': 'Specifications', 'top': [{'key': ...   \n",
              "4  {'heading': 'Specifications', 'top': [{'key': ...   \n",
              "\n",
              "                                           car_links fuel_type  body_type  \\\n",
              "0  https://www.cardekho.com/used-car-details/used...    Petrol      Sedan   \n",
              "1  https://www.cardekho.com/buy-used-car-details/...    Petrol  Hatchback   \n",
              "2  https://www.cardekho.com/used-car-details/used...    Petrol        SUV   \n",
              "3  https://www.cardekho.com/buy-used-car-details/...    Petrol  Hatchback   \n",
              "4  https://www.cardekho.com/used-car-details/used...    Diesel        SUV   \n",
              "\n",
              "  kilometers   car_type  owner_no  ... model_year        car_variant_name  \\\n",
              "0     70,000  Automatic         3  ...       2014                  Hybrid   \n",
              "1     23,981     Manual         1  ...       2017                T Option   \n",
              "2      7,100  Automatic         1  ...       2021                 RXT AMT   \n",
              "3     71,574     Manual         2  ...       2011              1.2 Sportz   \n",
              "4     50,000  Automatic         2  ...       2014  35 TDI Quattro Premium   \n",
              "\n",
              "  asking_price_of_the_car  actual_price_of_the_car negotiable_status  \\\n",
              "0                  975000                        0              None   \n",
              "1                  266000                        0              None   \n",
              "2                  595000                        0              None   \n",
              "3                  223000                        0              None   \n",
              "4                 1200000                        0              None   \n",
              "\n",
              "                     chance_of_selling      milege    seats  \\\n",
              "0  High chances of sale in next 6 days  19.16 kmpl  5 Seats   \n",
              "1  High chances of sale in next 6 days   22.7 kmpl  5 Seats   \n",
              "2  High chances of sale in next 6 days  19.03 kmpl  5 Seats   \n",
              "3  High chances of sale in next 6 days     17 kmpl  5 Seats   \n",
              "4  High chances of sale in next 6 days  15.73 kmpl  5 Seats   \n",
              "\n",
              "    insurance_validation register_year  \n",
              "0  Third Party insurance         01-14  \n",
              "1          Comprehensive         07-17  \n",
              "2          Comprehensive         11-21  \n",
              "3            Third Party         02-12  \n",
              "4  Third Party insurance         01-14  \n",
              "\n",
              "[5 rows x 23 columns]"
            ],
            "text/html": [
              "\n",
              "  <div id=\"df-c455ce02-7de7-475d-83b9-48a414c11b70\" class=\"colab-df-container\">\n",
              "    <div>\n",
              "<style scoped>\n",
              "    .dataframe tbody tr th:only-of-type {\n",
              "        vertical-align: middle;\n",
              "    }\n",
              "\n",
              "    .dataframe tbody tr th {\n",
              "        vertical-align: top;\n",
              "    }\n",
              "\n",
              "    .dataframe thead th {\n",
              "        text-align: right;\n",
              "    }\n",
              "</style>\n",
              "<table border=\"1\" class=\"dataframe\">\n",
              "  <thead>\n",
              "    <tr style=\"text-align: right;\">\n",
              "      <th></th>\n",
              "      <th>new_car_detail</th>\n",
              "      <th>new_car_overview</th>\n",
              "      <th>new_car_feature</th>\n",
              "      <th>new_car_specs</th>\n",
              "      <th>car_links</th>\n",
              "      <th>fuel_type</th>\n",
              "      <th>body_type</th>\n",
              "      <th>kilometers</th>\n",
              "      <th>car_type</th>\n",
              "      <th>owner_no</th>\n",
              "      <th>...</th>\n",
              "      <th>model_year</th>\n",
              "      <th>car_variant_name</th>\n",
              "      <th>asking_price_of_the_car</th>\n",
              "      <th>actual_price_of_the_car</th>\n",
              "      <th>negotiable_status</th>\n",
              "      <th>chance_of_selling</th>\n",
              "      <th>milege</th>\n",
              "      <th>seats</th>\n",
              "      <th>insurance_validation</th>\n",
              "      <th>register_year</th>\n",
              "    </tr>\n",
              "  </thead>\n",
              "  <tbody>\n",
              "    <tr>\n",
              "      <th>0</th>\n",
              "      <td>{'it': 0, 'ft': 'Petrol', 'bt': 'Sedan', 'km':...</td>\n",
              "      <td>{'heading': 'Car overview', 'top': [{'key': 'R...</td>\n",
              "      <td>{'heading': 'Features', 'top': [{'value': 'Pow...</td>\n",
              "      <td>{'heading': 'Specifications', 'top': [{'key': ...</td>\n",
              "      <td>https://www.cardekho.com/used-car-details/used...</td>\n",
              "      <td>Petrol</td>\n",
              "      <td>Sedan</td>\n",
              "      <td>70,000</td>\n",
              "      <td>Automatic</td>\n",
              "      <td>3</td>\n",
              "      <td>...</td>\n",
              "      <td>2014</td>\n",
              "      <td>Hybrid</td>\n",
              "      <td>975000</td>\n",
              "      <td>0</td>\n",
              "      <td>None</td>\n",
              "      <td>High chances of sale in next 6 days</td>\n",
              "      <td>19.16 kmpl</td>\n",
              "      <td>5 Seats</td>\n",
              "      <td>Third Party insurance</td>\n",
              "      <td>01-14</td>\n",
              "    </tr>\n",
              "    <tr>\n",
              "      <th>1</th>\n",
              "      <td>{'it': 0, 'ft': 'Petrol', 'bt': 'Hatchback', '...</td>\n",
              "      <td>{'heading': 'Car overview', 'top': [{'key': 'R...</td>\n",
              "      <td>{'heading': 'Features', 'top': [{'value': 'Pow...</td>\n",
              "      <td>{'heading': 'Specifications', 'top': [{'key': ...</td>\n",
              "      <td>https://www.cardekho.com/buy-used-car-details/...</td>\n",
              "      <td>Petrol</td>\n",
              "      <td>Hatchback</td>\n",
              "      <td>23,981</td>\n",
              "      <td>Manual</td>\n",
              "      <td>1</td>\n",
              "      <td>...</td>\n",
              "      <td>2017</td>\n",
              "      <td>T Option</td>\n",
              "      <td>266000</td>\n",
              "      <td>0</td>\n",
              "      <td>None</td>\n",
              "      <td>High chances of sale in next 6 days</td>\n",
              "      <td>22.7 kmpl</td>\n",
              "      <td>5 Seats</td>\n",
              "      <td>Comprehensive</td>\n",
              "      <td>07-17</td>\n",
              "    </tr>\n",
              "    <tr>\n",
              "      <th>2</th>\n",
              "      <td>{'it': 0, 'ft': 'Petrol', 'bt': 'SUV', 'km': '...</td>\n",
              "      <td>{'heading': 'Car overview', 'top': [{'key': 'R...</td>\n",
              "      <td>{'heading': 'Features', 'top': [{'value': 'Pow...</td>\n",
              "      <td>{'heading': 'Specifications', 'top': [{'key': ...</td>\n",
              "      <td>https://www.cardekho.com/used-car-details/used...</td>\n",
              "      <td>Petrol</td>\n",
              "      <td>SUV</td>\n",
              "      <td>7,100</td>\n",
              "      <td>Automatic</td>\n",
              "      <td>1</td>\n",
              "      <td>...</td>\n",
              "      <td>2021</td>\n",
              "      <td>RXT AMT</td>\n",
              "      <td>595000</td>\n",
              "      <td>0</td>\n",
              "      <td>None</td>\n",
              "      <td>High chances of sale in next 6 days</td>\n",
              "      <td>19.03 kmpl</td>\n",
              "      <td>5 Seats</td>\n",
              "      <td>Comprehensive</td>\n",
              "      <td>11-21</td>\n",
              "    </tr>\n",
              "    <tr>\n",
              "      <th>3</th>\n",
              "      <td>{'it': 0, 'ft': 'Petrol', 'bt': 'Hatchback', '...</td>\n",
              "      <td>{'heading': 'Car overview', 'top': [{'key': 'R...</td>\n",
              "      <td>{'heading': 'Features', 'top': [{'value': 'Pow...</td>\n",
              "      <td>{'heading': 'Specifications', 'top': [{'key': ...</td>\n",
              "      <td>https://www.cardekho.com/buy-used-car-details/...</td>\n",
              "      <td>Petrol</td>\n",
              "      <td>Hatchback</td>\n",
              "      <td>71,574</td>\n",
              "      <td>Manual</td>\n",
              "      <td>2</td>\n",
              "      <td>...</td>\n",
              "      <td>2011</td>\n",
              "      <td>1.2 Sportz</td>\n",
              "      <td>223000</td>\n",
              "      <td>0</td>\n",
              "      <td>None</td>\n",
              "      <td>High chances of sale in next 6 days</td>\n",
              "      <td>17 kmpl</td>\n",
              "      <td>5 Seats</td>\n",
              "      <td>Third Party</td>\n",
              "      <td>02-12</td>\n",
              "    </tr>\n",
              "    <tr>\n",
              "      <th>4</th>\n",
              "      <td>{'it': 0, 'ft': 'Diesel', 'bt': 'SUV', 'km': '...</td>\n",
              "      <td>{'heading': 'Car overview', 'top': [{'key': 'R...</td>\n",
              "      <td>{'heading': 'Features', 'top': [{'value': 'Pow...</td>\n",
              "      <td>{'heading': 'Specifications', 'top': [{'key': ...</td>\n",
              "      <td>https://www.cardekho.com/used-car-details/used...</td>\n",
              "      <td>Diesel</td>\n",
              "      <td>SUV</td>\n",
              "      <td>50,000</td>\n",
              "      <td>Automatic</td>\n",
              "      <td>2</td>\n",
              "      <td>...</td>\n",
              "      <td>2014</td>\n",
              "      <td>35 TDI Quattro Premium</td>\n",
              "      <td>1200000</td>\n",
              "      <td>0</td>\n",
              "      <td>None</td>\n",
              "      <td>High chances of sale in next 6 days</td>\n",
              "      <td>15.73 kmpl</td>\n",
              "      <td>5 Seats</td>\n",
              "      <td>Third Party insurance</td>\n",
              "      <td>01-14</td>\n",
              "    </tr>\n",
              "  </tbody>\n",
              "</table>\n",
              "<p>5 rows × 23 columns</p>\n",
              "</div>\n",
              "    <div class=\"colab-df-buttons\">\n",
              "\n",
              "  <div class=\"colab-df-container\">\n",
              "    <button class=\"colab-df-convert\" onclick=\"convertToInteractive('df-c455ce02-7de7-475d-83b9-48a414c11b70')\"\n",
              "            title=\"Convert this dataframe to an interactive table.\"\n",
              "            style=\"display:none;\">\n",
              "\n",
              "  <svg xmlns=\"http://www.w3.org/2000/svg\" height=\"24px\" viewBox=\"0 -960 960 960\">\n",
              "    <path d=\"M120-120v-720h720v720H120Zm60-500h600v-160H180v160Zm220 220h160v-160H400v160Zm0 220h160v-160H400v160ZM180-400h160v-160H180v160Zm440 0h160v-160H620v160ZM180-180h160v-160H180v160Zm440 0h160v-160H620v160Z\"/>\n",
              "  </svg>\n",
              "    </button>\n",
              "\n",
              "  <style>\n",
              "    .colab-df-container {\n",
              "      display:flex;\n",
              "      gap: 12px;\n",
              "    }\n",
              "\n",
              "    .colab-df-convert {\n",
              "      background-color: #E8F0FE;\n",
              "      border: none;\n",
              "      border-radius: 50%;\n",
              "      cursor: pointer;\n",
              "      display: none;\n",
              "      fill: #1967D2;\n",
              "      height: 32px;\n",
              "      padding: 0 0 0 0;\n",
              "      width: 32px;\n",
              "    }\n",
              "\n",
              "    .colab-df-convert:hover {\n",
              "      background-color: #E2EBFA;\n",
              "      box-shadow: 0px 1px 2px rgba(60, 64, 67, 0.3), 0px 1px 3px 1px rgba(60, 64, 67, 0.15);\n",
              "      fill: #174EA6;\n",
              "    }\n",
              "\n",
              "    .colab-df-buttons div {\n",
              "      margin-bottom: 4px;\n",
              "    }\n",
              "\n",
              "    [theme=dark] .colab-df-convert {\n",
              "      background-color: #3B4455;\n",
              "      fill: #D2E3FC;\n",
              "    }\n",
              "\n",
              "    [theme=dark] .colab-df-convert:hover {\n",
              "      background-color: #434B5C;\n",
              "      box-shadow: 0px 1px 3px 1px rgba(0, 0, 0, 0.15);\n",
              "      filter: drop-shadow(0px 1px 2px rgba(0, 0, 0, 0.3));\n",
              "      fill: #FFFFFF;\n",
              "    }\n",
              "  </style>\n",
              "\n",
              "    <script>\n",
              "      const buttonEl =\n",
              "        document.querySelector('#df-c455ce02-7de7-475d-83b9-48a414c11b70 button.colab-df-convert');\n",
              "      buttonEl.style.display =\n",
              "        google.colab.kernel.accessAllowed ? 'block' : 'none';\n",
              "\n",
              "      async function convertToInteractive(key) {\n",
              "        const element = document.querySelector('#df-c455ce02-7de7-475d-83b9-48a414c11b70');\n",
              "        const dataTable =\n",
              "          await google.colab.kernel.invokeFunction('convertToInteractive',\n",
              "                                                    [key], {});\n",
              "        if (!dataTable) return;\n",
              "\n",
              "        const docLinkHtml = 'Like what you see? Visit the ' +\n",
              "          '<a target=\"_blank\" href=https://colab.research.google.com/notebooks/data_table.ipynb>data table notebook</a>'\n",
              "          + ' to learn more about interactive tables.';\n",
              "        element.innerHTML = '';\n",
              "        dataTable['output_type'] = 'display_data';\n",
              "        await google.colab.output.renderOutput(dataTable, element);\n",
              "        const docLink = document.createElement('div');\n",
              "        docLink.innerHTML = docLinkHtml;\n",
              "        element.appendChild(docLink);\n",
              "      }\n",
              "    </script>\n",
              "  </div>\n",
              "\n",
              "\n",
              "<div id=\"df-4e4e4263-19d2-4b58-9aeb-689665d2b7c3\">\n",
              "  <button class=\"colab-df-quickchart\" onclick=\"quickchart('df-4e4e4263-19d2-4b58-9aeb-689665d2b7c3')\"\n",
              "            title=\"Suggest charts\"\n",
              "            style=\"display:none;\">\n",
              "\n",
              "<svg xmlns=\"http://www.w3.org/2000/svg\" height=\"24px\"viewBox=\"0 0 24 24\"\n",
              "     width=\"24px\">\n",
              "    <g>\n",
              "        <path d=\"M19 3H5c-1.1 0-2 .9-2 2v14c0 1.1.9 2 2 2h14c1.1 0 2-.9 2-2V5c0-1.1-.9-2-2-2zM9 17H7v-7h2v7zm4 0h-2V7h2v10zm4 0h-2v-4h2v4z\"/>\n",
              "    </g>\n",
              "</svg>\n",
              "  </button>\n",
              "\n",
              "<style>\n",
              "  .colab-df-quickchart {\n",
              "      --bg-color: #E8F0FE;\n",
              "      --fill-color: #1967D2;\n",
              "      --hover-bg-color: #E2EBFA;\n",
              "      --hover-fill-color: #174EA6;\n",
              "      --disabled-fill-color: #AAA;\n",
              "      --disabled-bg-color: #DDD;\n",
              "  }\n",
              "\n",
              "  [theme=dark] .colab-df-quickchart {\n",
              "      --bg-color: #3B4455;\n",
              "      --fill-color: #D2E3FC;\n",
              "      --hover-bg-color: #434B5C;\n",
              "      --hover-fill-color: #FFFFFF;\n",
              "      --disabled-bg-color: #3B4455;\n",
              "      --disabled-fill-color: #666;\n",
              "  }\n",
              "\n",
              "  .colab-df-quickchart {\n",
              "    background-color: var(--bg-color);\n",
              "    border: none;\n",
              "    border-radius: 50%;\n",
              "    cursor: pointer;\n",
              "    display: none;\n",
              "    fill: var(--fill-color);\n",
              "    height: 32px;\n",
              "    padding: 0;\n",
              "    width: 32px;\n",
              "  }\n",
              "\n",
              "  .colab-df-quickchart:hover {\n",
              "    background-color: var(--hover-bg-color);\n",
              "    box-shadow: 0 1px 2px rgba(60, 64, 67, 0.3), 0 1px 3px 1px rgba(60, 64, 67, 0.15);\n",
              "    fill: var(--button-hover-fill-color);\n",
              "  }\n",
              "\n",
              "  .colab-df-quickchart-complete:disabled,\n",
              "  .colab-df-quickchart-complete:disabled:hover {\n",
              "    background-color: var(--disabled-bg-color);\n",
              "    fill: var(--disabled-fill-color);\n",
              "    box-shadow: none;\n",
              "  }\n",
              "\n",
              "  .colab-df-spinner {\n",
              "    border: 2px solid var(--fill-color);\n",
              "    border-color: transparent;\n",
              "    border-bottom-color: var(--fill-color);\n",
              "    animation:\n",
              "      spin 1s steps(1) infinite;\n",
              "  }\n",
              "\n",
              "  @keyframes spin {\n",
              "    0% {\n",
              "      border-color: transparent;\n",
              "      border-bottom-color: var(--fill-color);\n",
              "      border-left-color: var(--fill-color);\n",
              "    }\n",
              "    20% {\n",
              "      border-color: transparent;\n",
              "      border-left-color: var(--fill-color);\n",
              "      border-top-color: var(--fill-color);\n",
              "    }\n",
              "    30% {\n",
              "      border-color: transparent;\n",
              "      border-left-color: var(--fill-color);\n",
              "      border-top-color: var(--fill-color);\n",
              "      border-right-color: var(--fill-color);\n",
              "    }\n",
              "    40% {\n",
              "      border-color: transparent;\n",
              "      border-right-color: var(--fill-color);\n",
              "      border-top-color: var(--fill-color);\n",
              "    }\n",
              "    60% {\n",
              "      border-color: transparent;\n",
              "      border-right-color: var(--fill-color);\n",
              "    }\n",
              "    80% {\n",
              "      border-color: transparent;\n",
              "      border-right-color: var(--fill-color);\n",
              "      border-bottom-color: var(--fill-color);\n",
              "    }\n",
              "    90% {\n",
              "      border-color: transparent;\n",
              "      border-bottom-color: var(--fill-color);\n",
              "    }\n",
              "  }\n",
              "</style>\n",
              "\n",
              "  <script>\n",
              "    async function quickchart(key) {\n",
              "      const quickchartButtonEl =\n",
              "        document.querySelector('#' + key + ' button');\n",
              "      quickchartButtonEl.disabled = true;  // To prevent multiple clicks.\n",
              "      quickchartButtonEl.classList.add('colab-df-spinner');\n",
              "      try {\n",
              "        const charts = await google.colab.kernel.invokeFunction(\n",
              "            'suggestCharts', [key], {});\n",
              "      } catch (error) {\n",
              "        console.error('Error during call to suggestCharts:', error);\n",
              "      }\n",
              "      quickchartButtonEl.classList.remove('colab-df-spinner');\n",
              "      quickchartButtonEl.classList.add('colab-df-quickchart-complete');\n",
              "    }\n",
              "    (() => {\n",
              "      let quickchartButtonEl =\n",
              "        document.querySelector('#df-4e4e4263-19d2-4b58-9aeb-689665d2b7c3 button');\n",
              "      quickchartButtonEl.style.display =\n",
              "        google.colab.kernel.accessAllowed ? 'block' : 'none';\n",
              "    })();\n",
              "  </script>\n",
              "</div>\n",
              "\n",
              "    </div>\n",
              "  </div>\n"
            ]
          },
          "metadata": {},
          "execution_count": 17
        }
      ]
    },
    {
      "cell_type": "code",
      "source": [
        "df.drop(columns=[\"new_car_detail\",\"new_car_overview\",\"new_car_feature\",\"new_car_specs\",\"car_links\"],inplace=True)"
      ],
      "metadata": {
        "id": "1vwonNnm9UDo"
      },
      "execution_count": 18,
      "outputs": []
    },
    {
      "cell_type": "code",
      "source": [
        "df"
      ],
      "metadata": {
        "colab": {
          "base_uri": "https://localhost:8080/",
          "height": 617
        },
        "id": "ap4h5NHrXiYM",
        "outputId": "cff523bc-ebc9-409f-9bc5-fce74078438a"
      },
      "execution_count": 19,
      "outputs": [
        {
          "output_type": "execute_result",
          "data": {
            "text/plain": [
              "     fuel_type  body_type kilometers   car_type  owner_no      owner  \\\n",
              "0       Petrol      Sedan     70,000  Automatic         3  3rd Owner   \n",
              "1       Petrol  Hatchback     23,981     Manual         1  1st Owner   \n",
              "2       Petrol        SUV      7,100  Automatic         1  1st Owner   \n",
              "3       Petrol  Hatchback     71,574     Manual         2  2nd Owner   \n",
              "4       Diesel        SUV     50,000  Automatic         2  2nd Owner   \n",
              "...        ...        ...        ...        ...       ...        ...   \n",
              "1414    Petrol  Hatchback     42,891  Automatic         1  1st Owner   \n",
              "1415    Diesel        SUV     59,100     Manual         1  1st Owner   \n",
              "1416    Petrol        SUV     55,913  Automatic         1  1st Owner   \n",
              "1417    Diesel        SUV     65,000  Automatic         1  1st Owner   \n",
              "1418    Diesel      Sedan     60,000  Automatic         1  1st Owner   \n",
              "\n",
              "     original_equip_manufacture          car_model  model_year  \\\n",
              "0                        Toyota       Toyota Camry        2014   \n",
              "1                        Datsun      Datsun RediGO        2017   \n",
              "2                       Renault      Renault Kiger        2021   \n",
              "3                       Hyundai        Hyundai i20        2011   \n",
              "4                          Audi            Audi Q3        2014   \n",
              "...                         ...                ...         ...   \n",
              "1414                     Maruti       Maruti Swift        2018   \n",
              "1415                    Renault     Renault Duster        2018   \n",
              "1416                       Tata         Tata Nexon        2018   \n",
              "1417                 Volkswagen  Volkswagen Tiguan        2017   \n",
              "1418                        BMW    BMW 3 Series GT        2019   \n",
              "\n",
              "            car_variant_name  asking_price_of_the_car  \\\n",
              "0                     Hybrid                   975000   \n",
              "1                   T Option                   266000   \n",
              "2                    RXT AMT                   595000   \n",
              "3                 1.2 Sportz                   223000   \n",
              "4     35 TDI Quattro Premium                  1200000   \n",
              "...                      ...                      ...   \n",
              "1414                 AMT VXI                   620000   \n",
              "1415         85PS Diesel RxZ                   890000   \n",
              "1416   1.2 Revotron XZA Plus                   801000   \n",
              "1417        2.0 TDI Highline                  2050000   \n",
              "1418                   Sport                  3575000   \n",
              "\n",
              "      actual_price_of_the_car negotiable_status  \\\n",
              "0                           0              None   \n",
              "1                           0              None   \n",
              "2                           0              None   \n",
              "3                           0              None   \n",
              "4                           0              None   \n",
              "...                       ...               ...   \n",
              "1414                        0              None   \n",
              "1415                        0              None   \n",
              "1416                        0              None   \n",
              "1417                        0              None   \n",
              "1418                        0              None   \n",
              "\n",
              "                        chance_of_selling      milege    seats  \\\n",
              "0     High chances of sale in next 6 days  19.16 kmpl  5 Seats   \n",
              "1     High chances of sale in next 6 days   22.7 kmpl  5 Seats   \n",
              "2     High chances of sale in next 6 days  19.03 kmpl  5 Seats   \n",
              "3     High chances of sale in next 6 days     17 kmpl  5 Seats   \n",
              "4     High chances of sale in next 6 days  15.73 kmpl  5 Seats   \n",
              "...                                   ...         ...      ...   \n",
              "1414  High chances of sale in next 6 days     22 kmpl  5 Seats   \n",
              "1415  High chances of sale in next 6 days  19.87 kmpl  5 Seats   \n",
              "1416  High chances of sale in next 6 days     17 kmpl  5 Seats   \n",
              "1417  High chances of sale in next 6 days  16.65 kmpl  5 Seats   \n",
              "1418  High chances of sale in next 6 days  21.76 kmpl  5 Seats   \n",
              "\n",
              "       insurance_validation register_year  \n",
              "0     Third Party insurance         01-14  \n",
              "1             Comprehensive         07-17  \n",
              "2             Comprehensive         11-21  \n",
              "3               Third Party         02-12  \n",
              "4     Third Party insurance         01-14  \n",
              "...                     ...           ...  \n",
              "1414  Third Party insurance         06-18  \n",
              "1415  Third Party insurance         02-19  \n",
              "1416          Not Available         08-18  \n",
              "1417          Comprehensive         08-17  \n",
              "1418          Comprehensive         10-19  \n",
              "\n",
              "[8369 rows x 18 columns]"
            ],
            "text/html": [
              "\n",
              "  <div id=\"df-6b5673dc-8036-491c-943c-0a2294ddc8a0\" class=\"colab-df-container\">\n",
              "    <div>\n",
              "<style scoped>\n",
              "    .dataframe tbody tr th:only-of-type {\n",
              "        vertical-align: middle;\n",
              "    }\n",
              "\n",
              "    .dataframe tbody tr th {\n",
              "        vertical-align: top;\n",
              "    }\n",
              "\n",
              "    .dataframe thead th {\n",
              "        text-align: right;\n",
              "    }\n",
              "</style>\n",
              "<table border=\"1\" class=\"dataframe\">\n",
              "  <thead>\n",
              "    <tr style=\"text-align: right;\">\n",
              "      <th></th>\n",
              "      <th>fuel_type</th>\n",
              "      <th>body_type</th>\n",
              "      <th>kilometers</th>\n",
              "      <th>car_type</th>\n",
              "      <th>owner_no</th>\n",
              "      <th>owner</th>\n",
              "      <th>original_equip_manufacture</th>\n",
              "      <th>car_model</th>\n",
              "      <th>model_year</th>\n",
              "      <th>car_variant_name</th>\n",
              "      <th>asking_price_of_the_car</th>\n",
              "      <th>actual_price_of_the_car</th>\n",
              "      <th>negotiable_status</th>\n",
              "      <th>chance_of_selling</th>\n",
              "      <th>milege</th>\n",
              "      <th>seats</th>\n",
              "      <th>insurance_validation</th>\n",
              "      <th>register_year</th>\n",
              "    </tr>\n",
              "  </thead>\n",
              "  <tbody>\n",
              "    <tr>\n",
              "      <th>0</th>\n",
              "      <td>Petrol</td>\n",
              "      <td>Sedan</td>\n",
              "      <td>70,000</td>\n",
              "      <td>Automatic</td>\n",
              "      <td>3</td>\n",
              "      <td>3rd Owner</td>\n",
              "      <td>Toyota</td>\n",
              "      <td>Toyota Camry</td>\n",
              "      <td>2014</td>\n",
              "      <td>Hybrid</td>\n",
              "      <td>975000</td>\n",
              "      <td>0</td>\n",
              "      <td>None</td>\n",
              "      <td>High chances of sale in next 6 days</td>\n",
              "      <td>19.16 kmpl</td>\n",
              "      <td>5 Seats</td>\n",
              "      <td>Third Party insurance</td>\n",
              "      <td>01-14</td>\n",
              "    </tr>\n",
              "    <tr>\n",
              "      <th>1</th>\n",
              "      <td>Petrol</td>\n",
              "      <td>Hatchback</td>\n",
              "      <td>23,981</td>\n",
              "      <td>Manual</td>\n",
              "      <td>1</td>\n",
              "      <td>1st Owner</td>\n",
              "      <td>Datsun</td>\n",
              "      <td>Datsun RediGO</td>\n",
              "      <td>2017</td>\n",
              "      <td>T Option</td>\n",
              "      <td>266000</td>\n",
              "      <td>0</td>\n",
              "      <td>None</td>\n",
              "      <td>High chances of sale in next 6 days</td>\n",
              "      <td>22.7 kmpl</td>\n",
              "      <td>5 Seats</td>\n",
              "      <td>Comprehensive</td>\n",
              "      <td>07-17</td>\n",
              "    </tr>\n",
              "    <tr>\n",
              "      <th>2</th>\n",
              "      <td>Petrol</td>\n",
              "      <td>SUV</td>\n",
              "      <td>7,100</td>\n",
              "      <td>Automatic</td>\n",
              "      <td>1</td>\n",
              "      <td>1st Owner</td>\n",
              "      <td>Renault</td>\n",
              "      <td>Renault Kiger</td>\n",
              "      <td>2021</td>\n",
              "      <td>RXT AMT</td>\n",
              "      <td>595000</td>\n",
              "      <td>0</td>\n",
              "      <td>None</td>\n",
              "      <td>High chances of sale in next 6 days</td>\n",
              "      <td>19.03 kmpl</td>\n",
              "      <td>5 Seats</td>\n",
              "      <td>Comprehensive</td>\n",
              "      <td>11-21</td>\n",
              "    </tr>\n",
              "    <tr>\n",
              "      <th>3</th>\n",
              "      <td>Petrol</td>\n",
              "      <td>Hatchback</td>\n",
              "      <td>71,574</td>\n",
              "      <td>Manual</td>\n",
              "      <td>2</td>\n",
              "      <td>2nd Owner</td>\n",
              "      <td>Hyundai</td>\n",
              "      <td>Hyundai i20</td>\n",
              "      <td>2011</td>\n",
              "      <td>1.2 Sportz</td>\n",
              "      <td>223000</td>\n",
              "      <td>0</td>\n",
              "      <td>None</td>\n",
              "      <td>High chances of sale in next 6 days</td>\n",
              "      <td>17 kmpl</td>\n",
              "      <td>5 Seats</td>\n",
              "      <td>Third Party</td>\n",
              "      <td>02-12</td>\n",
              "    </tr>\n",
              "    <tr>\n",
              "      <th>4</th>\n",
              "      <td>Diesel</td>\n",
              "      <td>SUV</td>\n",
              "      <td>50,000</td>\n",
              "      <td>Automatic</td>\n",
              "      <td>2</td>\n",
              "      <td>2nd Owner</td>\n",
              "      <td>Audi</td>\n",
              "      <td>Audi Q3</td>\n",
              "      <td>2014</td>\n",
              "      <td>35 TDI Quattro Premium</td>\n",
              "      <td>1200000</td>\n",
              "      <td>0</td>\n",
              "      <td>None</td>\n",
              "      <td>High chances of sale in next 6 days</td>\n",
              "      <td>15.73 kmpl</td>\n",
              "      <td>5 Seats</td>\n",
              "      <td>Third Party insurance</td>\n",
              "      <td>01-14</td>\n",
              "    </tr>\n",
              "    <tr>\n",
              "      <th>...</th>\n",
              "      <td>...</td>\n",
              "      <td>...</td>\n",
              "      <td>...</td>\n",
              "      <td>...</td>\n",
              "      <td>...</td>\n",
              "      <td>...</td>\n",
              "      <td>...</td>\n",
              "      <td>...</td>\n",
              "      <td>...</td>\n",
              "      <td>...</td>\n",
              "      <td>...</td>\n",
              "      <td>...</td>\n",
              "      <td>...</td>\n",
              "      <td>...</td>\n",
              "      <td>...</td>\n",
              "      <td>...</td>\n",
              "      <td>...</td>\n",
              "      <td>...</td>\n",
              "    </tr>\n",
              "    <tr>\n",
              "      <th>1414</th>\n",
              "      <td>Petrol</td>\n",
              "      <td>Hatchback</td>\n",
              "      <td>42,891</td>\n",
              "      <td>Automatic</td>\n",
              "      <td>1</td>\n",
              "      <td>1st Owner</td>\n",
              "      <td>Maruti</td>\n",
              "      <td>Maruti Swift</td>\n",
              "      <td>2018</td>\n",
              "      <td>AMT VXI</td>\n",
              "      <td>620000</td>\n",
              "      <td>0</td>\n",
              "      <td>None</td>\n",
              "      <td>High chances of sale in next 6 days</td>\n",
              "      <td>22 kmpl</td>\n",
              "      <td>5 Seats</td>\n",
              "      <td>Third Party insurance</td>\n",
              "      <td>06-18</td>\n",
              "    </tr>\n",
              "    <tr>\n",
              "      <th>1415</th>\n",
              "      <td>Diesel</td>\n",
              "      <td>SUV</td>\n",
              "      <td>59,100</td>\n",
              "      <td>Manual</td>\n",
              "      <td>1</td>\n",
              "      <td>1st Owner</td>\n",
              "      <td>Renault</td>\n",
              "      <td>Renault Duster</td>\n",
              "      <td>2018</td>\n",
              "      <td>85PS Diesel RxZ</td>\n",
              "      <td>890000</td>\n",
              "      <td>0</td>\n",
              "      <td>None</td>\n",
              "      <td>High chances of sale in next 6 days</td>\n",
              "      <td>19.87 kmpl</td>\n",
              "      <td>5 Seats</td>\n",
              "      <td>Third Party insurance</td>\n",
              "      <td>02-19</td>\n",
              "    </tr>\n",
              "    <tr>\n",
              "      <th>1416</th>\n",
              "      <td>Petrol</td>\n",
              "      <td>SUV</td>\n",
              "      <td>55,913</td>\n",
              "      <td>Automatic</td>\n",
              "      <td>1</td>\n",
              "      <td>1st Owner</td>\n",
              "      <td>Tata</td>\n",
              "      <td>Tata Nexon</td>\n",
              "      <td>2018</td>\n",
              "      <td>1.2 Revotron XZA Plus</td>\n",
              "      <td>801000</td>\n",
              "      <td>0</td>\n",
              "      <td>None</td>\n",
              "      <td>High chances of sale in next 6 days</td>\n",
              "      <td>17 kmpl</td>\n",
              "      <td>5 Seats</td>\n",
              "      <td>Not Available</td>\n",
              "      <td>08-18</td>\n",
              "    </tr>\n",
              "    <tr>\n",
              "      <th>1417</th>\n",
              "      <td>Diesel</td>\n",
              "      <td>SUV</td>\n",
              "      <td>65,000</td>\n",
              "      <td>Automatic</td>\n",
              "      <td>1</td>\n",
              "      <td>1st Owner</td>\n",
              "      <td>Volkswagen</td>\n",
              "      <td>Volkswagen Tiguan</td>\n",
              "      <td>2017</td>\n",
              "      <td>2.0 TDI Highline</td>\n",
              "      <td>2050000</td>\n",
              "      <td>0</td>\n",
              "      <td>None</td>\n",
              "      <td>High chances of sale in next 6 days</td>\n",
              "      <td>16.65 kmpl</td>\n",
              "      <td>5 Seats</td>\n",
              "      <td>Comprehensive</td>\n",
              "      <td>08-17</td>\n",
              "    </tr>\n",
              "    <tr>\n",
              "      <th>1418</th>\n",
              "      <td>Diesel</td>\n",
              "      <td>Sedan</td>\n",
              "      <td>60,000</td>\n",
              "      <td>Automatic</td>\n",
              "      <td>1</td>\n",
              "      <td>1st Owner</td>\n",
              "      <td>BMW</td>\n",
              "      <td>BMW 3 Series GT</td>\n",
              "      <td>2019</td>\n",
              "      <td>Sport</td>\n",
              "      <td>3575000</td>\n",
              "      <td>0</td>\n",
              "      <td>None</td>\n",
              "      <td>High chances of sale in next 6 days</td>\n",
              "      <td>21.76 kmpl</td>\n",
              "      <td>5 Seats</td>\n",
              "      <td>Comprehensive</td>\n",
              "      <td>10-19</td>\n",
              "    </tr>\n",
              "  </tbody>\n",
              "</table>\n",
              "<p>8369 rows × 18 columns</p>\n",
              "</div>\n",
              "    <div class=\"colab-df-buttons\">\n",
              "\n",
              "  <div class=\"colab-df-container\">\n",
              "    <button class=\"colab-df-convert\" onclick=\"convertToInteractive('df-6b5673dc-8036-491c-943c-0a2294ddc8a0')\"\n",
              "            title=\"Convert this dataframe to an interactive table.\"\n",
              "            style=\"display:none;\">\n",
              "\n",
              "  <svg xmlns=\"http://www.w3.org/2000/svg\" height=\"24px\" viewBox=\"0 -960 960 960\">\n",
              "    <path d=\"M120-120v-720h720v720H120Zm60-500h600v-160H180v160Zm220 220h160v-160H400v160Zm0 220h160v-160H400v160ZM180-400h160v-160H180v160Zm440 0h160v-160H620v160ZM180-180h160v-160H180v160Zm440 0h160v-160H620v160Z\"/>\n",
              "  </svg>\n",
              "    </button>\n",
              "\n",
              "  <style>\n",
              "    .colab-df-container {\n",
              "      display:flex;\n",
              "      gap: 12px;\n",
              "    }\n",
              "\n",
              "    .colab-df-convert {\n",
              "      background-color: #E8F0FE;\n",
              "      border: none;\n",
              "      border-radius: 50%;\n",
              "      cursor: pointer;\n",
              "      display: none;\n",
              "      fill: #1967D2;\n",
              "      height: 32px;\n",
              "      padding: 0 0 0 0;\n",
              "      width: 32px;\n",
              "    }\n",
              "\n",
              "    .colab-df-convert:hover {\n",
              "      background-color: #E2EBFA;\n",
              "      box-shadow: 0px 1px 2px rgba(60, 64, 67, 0.3), 0px 1px 3px 1px rgba(60, 64, 67, 0.15);\n",
              "      fill: #174EA6;\n",
              "    }\n",
              "\n",
              "    .colab-df-buttons div {\n",
              "      margin-bottom: 4px;\n",
              "    }\n",
              "\n",
              "    [theme=dark] .colab-df-convert {\n",
              "      background-color: #3B4455;\n",
              "      fill: #D2E3FC;\n",
              "    }\n",
              "\n",
              "    [theme=dark] .colab-df-convert:hover {\n",
              "      background-color: #434B5C;\n",
              "      box-shadow: 0px 1px 3px 1px rgba(0, 0, 0, 0.15);\n",
              "      filter: drop-shadow(0px 1px 2px rgba(0, 0, 0, 0.3));\n",
              "      fill: #FFFFFF;\n",
              "    }\n",
              "  </style>\n",
              "\n",
              "    <script>\n",
              "      const buttonEl =\n",
              "        document.querySelector('#df-6b5673dc-8036-491c-943c-0a2294ddc8a0 button.colab-df-convert');\n",
              "      buttonEl.style.display =\n",
              "        google.colab.kernel.accessAllowed ? 'block' : 'none';\n",
              "\n",
              "      async function convertToInteractive(key) {\n",
              "        const element = document.querySelector('#df-6b5673dc-8036-491c-943c-0a2294ddc8a0');\n",
              "        const dataTable =\n",
              "          await google.colab.kernel.invokeFunction('convertToInteractive',\n",
              "                                                    [key], {});\n",
              "        if (!dataTable) return;\n",
              "\n",
              "        const docLinkHtml = 'Like what you see? Visit the ' +\n",
              "          '<a target=\"_blank\" href=https://colab.research.google.com/notebooks/data_table.ipynb>data table notebook</a>'\n",
              "          + ' to learn more about interactive tables.';\n",
              "        element.innerHTML = '';\n",
              "        dataTable['output_type'] = 'display_data';\n",
              "        await google.colab.output.renderOutput(dataTable, element);\n",
              "        const docLink = document.createElement('div');\n",
              "        docLink.innerHTML = docLinkHtml;\n",
              "        element.appendChild(docLink);\n",
              "      }\n",
              "    </script>\n",
              "  </div>\n",
              "\n",
              "\n",
              "<div id=\"df-2484cf40-279f-452f-80fb-ff2cc0c4cdaf\">\n",
              "  <button class=\"colab-df-quickchart\" onclick=\"quickchart('df-2484cf40-279f-452f-80fb-ff2cc0c4cdaf')\"\n",
              "            title=\"Suggest charts\"\n",
              "            style=\"display:none;\">\n",
              "\n",
              "<svg xmlns=\"http://www.w3.org/2000/svg\" height=\"24px\"viewBox=\"0 0 24 24\"\n",
              "     width=\"24px\">\n",
              "    <g>\n",
              "        <path d=\"M19 3H5c-1.1 0-2 .9-2 2v14c0 1.1.9 2 2 2h14c1.1 0 2-.9 2-2V5c0-1.1-.9-2-2-2zM9 17H7v-7h2v7zm4 0h-2V7h2v10zm4 0h-2v-4h2v4z\"/>\n",
              "    </g>\n",
              "</svg>\n",
              "  </button>\n",
              "\n",
              "<style>\n",
              "  .colab-df-quickchart {\n",
              "      --bg-color: #E8F0FE;\n",
              "      --fill-color: #1967D2;\n",
              "      --hover-bg-color: #E2EBFA;\n",
              "      --hover-fill-color: #174EA6;\n",
              "      --disabled-fill-color: #AAA;\n",
              "      --disabled-bg-color: #DDD;\n",
              "  }\n",
              "\n",
              "  [theme=dark] .colab-df-quickchart {\n",
              "      --bg-color: #3B4455;\n",
              "      --fill-color: #D2E3FC;\n",
              "      --hover-bg-color: #434B5C;\n",
              "      --hover-fill-color: #FFFFFF;\n",
              "      --disabled-bg-color: #3B4455;\n",
              "      --disabled-fill-color: #666;\n",
              "  }\n",
              "\n",
              "  .colab-df-quickchart {\n",
              "    background-color: var(--bg-color);\n",
              "    border: none;\n",
              "    border-radius: 50%;\n",
              "    cursor: pointer;\n",
              "    display: none;\n",
              "    fill: var(--fill-color);\n",
              "    height: 32px;\n",
              "    padding: 0;\n",
              "    width: 32px;\n",
              "  }\n",
              "\n",
              "  .colab-df-quickchart:hover {\n",
              "    background-color: var(--hover-bg-color);\n",
              "    box-shadow: 0 1px 2px rgba(60, 64, 67, 0.3), 0 1px 3px 1px rgba(60, 64, 67, 0.15);\n",
              "    fill: var(--button-hover-fill-color);\n",
              "  }\n",
              "\n",
              "  .colab-df-quickchart-complete:disabled,\n",
              "  .colab-df-quickchart-complete:disabled:hover {\n",
              "    background-color: var(--disabled-bg-color);\n",
              "    fill: var(--disabled-fill-color);\n",
              "    box-shadow: none;\n",
              "  }\n",
              "\n",
              "  .colab-df-spinner {\n",
              "    border: 2px solid var(--fill-color);\n",
              "    border-color: transparent;\n",
              "    border-bottom-color: var(--fill-color);\n",
              "    animation:\n",
              "      spin 1s steps(1) infinite;\n",
              "  }\n",
              "\n",
              "  @keyframes spin {\n",
              "    0% {\n",
              "      border-color: transparent;\n",
              "      border-bottom-color: var(--fill-color);\n",
              "      border-left-color: var(--fill-color);\n",
              "    }\n",
              "    20% {\n",
              "      border-color: transparent;\n",
              "      border-left-color: var(--fill-color);\n",
              "      border-top-color: var(--fill-color);\n",
              "    }\n",
              "    30% {\n",
              "      border-color: transparent;\n",
              "      border-left-color: var(--fill-color);\n",
              "      border-top-color: var(--fill-color);\n",
              "      border-right-color: var(--fill-color);\n",
              "    }\n",
              "    40% {\n",
              "      border-color: transparent;\n",
              "      border-right-color: var(--fill-color);\n",
              "      border-top-color: var(--fill-color);\n",
              "    }\n",
              "    60% {\n",
              "      border-color: transparent;\n",
              "      border-right-color: var(--fill-color);\n",
              "    }\n",
              "    80% {\n",
              "      border-color: transparent;\n",
              "      border-right-color: var(--fill-color);\n",
              "      border-bottom-color: var(--fill-color);\n",
              "    }\n",
              "    90% {\n",
              "      border-color: transparent;\n",
              "      border-bottom-color: var(--fill-color);\n",
              "    }\n",
              "  }\n",
              "</style>\n",
              "\n",
              "  <script>\n",
              "    async function quickchart(key) {\n",
              "      const quickchartButtonEl =\n",
              "        document.querySelector('#' + key + ' button');\n",
              "      quickchartButtonEl.disabled = true;  // To prevent multiple clicks.\n",
              "      quickchartButtonEl.classList.add('colab-df-spinner');\n",
              "      try {\n",
              "        const charts = await google.colab.kernel.invokeFunction(\n",
              "            'suggestCharts', [key], {});\n",
              "      } catch (error) {\n",
              "        console.error('Error during call to suggestCharts:', error);\n",
              "      }\n",
              "      quickchartButtonEl.classList.remove('colab-df-spinner');\n",
              "      quickchartButtonEl.classList.add('colab-df-quickchart-complete');\n",
              "    }\n",
              "    (() => {\n",
              "      let quickchartButtonEl =\n",
              "        document.querySelector('#df-2484cf40-279f-452f-80fb-ff2cc0c4cdaf button');\n",
              "      quickchartButtonEl.style.display =\n",
              "        google.colab.kernel.accessAllowed ? 'block' : 'none';\n",
              "    })();\n",
              "  </script>\n",
              "</div>\n",
              "\n",
              "  <div id=\"id_987815e5-2eff-47df-a8ca-ca4abacb178c\">\n",
              "    <style>\n",
              "      .colab-df-generate {\n",
              "        background-color: #E8F0FE;\n",
              "        border: none;\n",
              "        border-radius: 50%;\n",
              "        cursor: pointer;\n",
              "        display: none;\n",
              "        fill: #1967D2;\n",
              "        height: 32px;\n",
              "        padding: 0 0 0 0;\n",
              "        width: 32px;\n",
              "      }\n",
              "\n",
              "      .colab-df-generate:hover {\n",
              "        background-color: #E2EBFA;\n",
              "        box-shadow: 0px 1px 2px rgba(60, 64, 67, 0.3), 0px 1px 3px 1px rgba(60, 64, 67, 0.15);\n",
              "        fill: #174EA6;\n",
              "      }\n",
              "\n",
              "      [theme=dark] .colab-df-generate {\n",
              "        background-color: #3B4455;\n",
              "        fill: #D2E3FC;\n",
              "      }\n",
              "\n",
              "      [theme=dark] .colab-df-generate:hover {\n",
              "        background-color: #434B5C;\n",
              "        box-shadow: 0px 1px 3px 1px rgba(0, 0, 0, 0.15);\n",
              "        filter: drop-shadow(0px 1px 2px rgba(0, 0, 0, 0.3));\n",
              "        fill: #FFFFFF;\n",
              "      }\n",
              "    </style>\n",
              "    <button class=\"colab-df-generate\" onclick=\"generateWithVariable('df')\"\n",
              "            title=\"Generate code using this dataframe.\"\n",
              "            style=\"display:none;\">\n",
              "\n",
              "  <svg xmlns=\"http://www.w3.org/2000/svg\" height=\"24px\"viewBox=\"0 0 24 24\"\n",
              "       width=\"24px\">\n",
              "    <path d=\"M7,19H8.4L18.45,9,17,7.55,7,17.6ZM5,21V16.75L18.45,3.32a2,2,0,0,1,2.83,0l1.4,1.43a1.91,1.91,0,0,1,.58,1.4,1.91,1.91,0,0,1-.58,1.4L9.25,21ZM18.45,9,17,7.55Zm-12,3A5.31,5.31,0,0,0,4.9,8.1,5.31,5.31,0,0,0,1,6.5,5.31,5.31,0,0,0,4.9,4.9,5.31,5.31,0,0,0,6.5,1,5.31,5.31,0,0,0,8.1,4.9,5.31,5.31,0,0,0,12,6.5,5.46,5.46,0,0,0,6.5,12Z\"/>\n",
              "  </svg>\n",
              "    </button>\n",
              "    <script>\n",
              "      (() => {\n",
              "      const buttonEl =\n",
              "        document.querySelector('#id_987815e5-2eff-47df-a8ca-ca4abacb178c button.colab-df-generate');\n",
              "      buttonEl.style.display =\n",
              "        google.colab.kernel.accessAllowed ? 'block' : 'none';\n",
              "\n",
              "      buttonEl.onclick = () => {\n",
              "        google.colab.notebook.generateWithVariable('df');\n",
              "      }\n",
              "      })();\n",
              "    </script>\n",
              "  </div>\n",
              "\n",
              "    </div>\n",
              "  </div>\n"
            ]
          },
          "metadata": {},
          "execution_count": 19
        }
      ]
    },
    {
      "cell_type": "code",
      "source": [
        "len(df)"
      ],
      "metadata": {
        "colab": {
          "base_uri": "https://localhost:8080/"
        },
        "id": "Ob2X_Kae2eja",
        "outputId": "191bdfc6-dd5f-4fa8-b22b-a4ce7c1b55d1"
      },
      "execution_count": 20,
      "outputs": [
        {
          "output_type": "execute_result",
          "data": {
            "text/plain": [
              "8369"
            ]
          },
          "metadata": {},
          "execution_count": 20
        }
      ]
    },
    {
      "cell_type": "code",
      "source": [
        "df.to_csv(\"modified_cardheko_dataset.csv\",index=False)"
      ],
      "metadata": {
        "id": "POmGA09QesbI"
      },
      "execution_count": 21,
      "outputs": []
    },
    {
      "cell_type": "code",
      "source": [
        "df.isna().sum()"
      ],
      "metadata": {
        "colab": {
          "base_uri": "https://localhost:8080/"
        },
        "id": "qptoVGLNe9Vg",
        "outputId": "f05bf608-3790-48b8-951c-597b4b434dcc"
      },
      "execution_count": 22,
      "outputs": [
        {
          "output_type": "execute_result",
          "data": {
            "text/plain": [
              "fuel_type                        0\n",
              "body_type                        0\n",
              "kilometers                       0\n",
              "car_type                         0\n",
              "owner_no                         0\n",
              "owner                            0\n",
              "original_equip_manufacture       0\n",
              "car_model                        0\n",
              "model_year                       0\n",
              "car_variant_name                 0\n",
              "asking_price_of_the_car          0\n",
              "actual_price_of_the_car          0\n",
              "negotiable_status             8369\n",
              "chance_of_selling                0\n",
              "milege                           0\n",
              "seats                            0\n",
              "insurance_validation             0\n",
              "register_year                    0\n",
              "dtype: int64"
            ]
          },
          "metadata": {},
          "execution_count": 22
        }
      ]
    },
    {
      "cell_type": "code",
      "source": [
        "df[\"negotiable_status\"] = df[\"negotiable_status\"].fillna(\"No\")"
      ],
      "metadata": {
        "id": "fBiTVEMefEzQ"
      },
      "execution_count": 23,
      "outputs": []
    },
    {
      "cell_type": "code",
      "source": [
        "df.isna().sum()"
      ],
      "metadata": {
        "colab": {
          "base_uri": "https://localhost:8080/"
        },
        "id": "qqp4vX64fVeX",
        "outputId": "405e9846-dad3-4099-f372-bd11e0cda252"
      },
      "execution_count": 24,
      "outputs": [
        {
          "output_type": "execute_result",
          "data": {
            "text/plain": [
              "fuel_type                     0\n",
              "body_type                     0\n",
              "kilometers                    0\n",
              "car_type                      0\n",
              "owner_no                      0\n",
              "owner                         0\n",
              "original_equip_manufacture    0\n",
              "car_model                     0\n",
              "model_year                    0\n",
              "car_variant_name              0\n",
              "asking_price_of_the_car       0\n",
              "actual_price_of_the_car       0\n",
              "negotiable_status             0\n",
              "chance_of_selling             0\n",
              "milege                        0\n",
              "seats                         0\n",
              "insurance_validation          0\n",
              "register_year                 0\n",
              "dtype: int64"
            ]
          },
          "metadata": {},
          "execution_count": 24
        }
      ]
    },
    {
      "cell_type": "code",
      "source": [
        "df = df.replace(\"0\",None)"
      ],
      "metadata": {
        "id": "237U44UbfXwv"
      },
      "execution_count": 25,
      "outputs": []
    },
    {
      "cell_type": "code",
      "source": [
        "df.isna().sum()"
      ],
      "metadata": {
        "colab": {
          "base_uri": "https://localhost:8080/"
        },
        "id": "UDoY1sJKfijB",
        "outputId": "c13bf62e-17a0-4bc6-99e6-3f4bf4aae00d"
      },
      "execution_count": 26,
      "outputs": [
        {
          "output_type": "execute_result",
          "data": {
            "text/plain": [
              "fuel_type                     0\n",
              "body_type                     0\n",
              "kilometers                    2\n",
              "car_type                      0\n",
              "owner_no                      0\n",
              "owner                         0\n",
              "original_equip_manufacture    0\n",
              "car_model                     0\n",
              "model_year                    0\n",
              "car_variant_name              0\n",
              "asking_price_of_the_car       0\n",
              "actual_price_of_the_car       0\n",
              "negotiable_status             0\n",
              "chance_of_selling             0\n",
              "milege                        0\n",
              "seats                         0\n",
              "insurance_validation          0\n",
              "register_year                 0\n",
              "dtype: int64"
            ]
          },
          "metadata": {},
          "execution_count": 26
        }
      ]
    },
    {
      "cell_type": "code",
      "source": [
        "df = df.replace(0,None)"
      ],
      "metadata": {
        "id": "wXkCQBcKfsC3"
      },
      "execution_count": 27,
      "outputs": []
    },
    {
      "cell_type": "code",
      "source": [
        "df.isna().sum()"
      ],
      "metadata": {
        "colab": {
          "base_uri": "https://localhost:8080/"
        },
        "id": "Tg887ix4f1AY",
        "outputId": "f59c6bba-a526-4f25-941a-4fd98f2f06bf"
      },
      "execution_count": 28,
      "outputs": [
        {
          "output_type": "execute_result",
          "data": {
            "text/plain": [
              "fuel_type                        0\n",
              "body_type                        0\n",
              "kilometers                       2\n",
              "car_type                         0\n",
              "owner_no                        32\n",
              "owner                            0\n",
              "original_equip_manufacture       0\n",
              "car_model                        0\n",
              "model_year                       0\n",
              "car_variant_name                 0\n",
              "asking_price_of_the_car          0\n",
              "actual_price_of_the_car       6699\n",
              "negotiable_status                0\n",
              "chance_of_selling                0\n",
              "milege                         287\n",
              "seats                           62\n",
              "insurance_validation            56\n",
              "register_year                    0\n",
              "dtype: int64"
            ]
          },
          "metadata": {},
          "execution_count": 28
        }
      ]
    },
    {
      "cell_type": "code",
      "source": [
        "df[\"kilometers\"].mode()[0]"
      ],
      "metadata": {
        "colab": {
          "base_uri": "https://localhost:8080/",
          "height": 36
        },
        "id": "BonHhZo_f2ew",
        "outputId": "becf86ca-f884-45e9-a2a3-51e789c23a2b"
      },
      "execution_count": 29,
      "outputs": [
        {
          "output_type": "execute_result",
          "data": {
            "text/plain": [
              "'1,20,000'"
            ],
            "application/vnd.google.colaboratory.intrinsic+json": {
              "type": "string"
            }
          },
          "metadata": {},
          "execution_count": 29
        }
      ]
    },
    {
      "cell_type": "code",
      "source": [
        "df[\"kilometers\"] = df[\"kilometers\"].fillna(df[\"kilometers\"].mode()[0])"
      ],
      "metadata": {
        "id": "FEQrfsFxf8V3"
      },
      "execution_count": 30,
      "outputs": []
    },
    {
      "cell_type": "code",
      "source": [
        "df.isna().sum()"
      ],
      "metadata": {
        "colab": {
          "base_uri": "https://localhost:8080/"
        },
        "id": "O6GVe99Hgelw",
        "outputId": "46ebe868-1a8e-4b6a-e6ec-a28ba8d2dc3a"
      },
      "execution_count": 31,
      "outputs": [
        {
          "output_type": "execute_result",
          "data": {
            "text/plain": [
              "fuel_type                        0\n",
              "body_type                        0\n",
              "kilometers                       0\n",
              "car_type                         0\n",
              "owner_no                        32\n",
              "owner                            0\n",
              "original_equip_manufacture       0\n",
              "car_model                        0\n",
              "model_year                       0\n",
              "car_variant_name                 0\n",
              "asking_price_of_the_car          0\n",
              "actual_price_of_the_car       6699\n",
              "negotiable_status                0\n",
              "chance_of_selling                0\n",
              "milege                         287\n",
              "seats                           62\n",
              "insurance_validation            56\n",
              "register_year                    0\n",
              "dtype: int64"
            ]
          },
          "metadata": {},
          "execution_count": 31
        }
      ]
    },
    {
      "cell_type": "code",
      "source": [
        "int(df[\"owner_no\"].mean())"
      ],
      "metadata": {
        "colab": {
          "base_uri": "https://localhost:8080/"
        },
        "id": "M4SQZfY4ggmA",
        "outputId": "48fc568d-5cee-4b26-d537-fc63206288e0"
      },
      "execution_count": 32,
      "outputs": [
        {
          "output_type": "execute_result",
          "data": {
            "text/plain": [
              "1"
            ]
          },
          "metadata": {},
          "execution_count": 32
        }
      ]
    },
    {
      "cell_type": "code",
      "source": [
        "df[\"owner_no\"] = df[\"owner_no\"].fillna(int(df[\"owner_no\"].mean()))"
      ],
      "metadata": {
        "id": "mF0OewpTglgI"
      },
      "execution_count": 33,
      "outputs": []
    },
    {
      "cell_type": "code",
      "source": [
        "df.isna().sum()"
      ],
      "metadata": {
        "colab": {
          "base_uri": "https://localhost:8080/"
        },
        "id": "vFKBN4GnhO3A",
        "outputId": "e8a16372-abee-4287-eeee-f2bcc4085e17"
      },
      "execution_count": 34,
      "outputs": [
        {
          "output_type": "execute_result",
          "data": {
            "text/plain": [
              "fuel_type                        0\n",
              "body_type                        0\n",
              "kilometers                       0\n",
              "car_type                         0\n",
              "owner_no                         0\n",
              "owner                            0\n",
              "original_equip_manufacture       0\n",
              "car_model                        0\n",
              "model_year                       0\n",
              "car_variant_name                 0\n",
              "asking_price_of_the_car          0\n",
              "actual_price_of_the_car       6699\n",
              "negotiable_status                0\n",
              "chance_of_selling                0\n",
              "milege                         287\n",
              "seats                           62\n",
              "insurance_validation            56\n",
              "register_year                    0\n",
              "dtype: int64"
            ]
          },
          "metadata": {},
          "execution_count": 34
        }
      ]
    },
    {
      "cell_type": "code",
      "source": [
        "df.drop(columns=[\"actual_price_of_the_car\"],inplace=True)"
      ],
      "metadata": {
        "id": "v8aP0b0ghTTA"
      },
      "execution_count": 35,
      "outputs": []
    },
    {
      "cell_type": "code",
      "source": [
        "df.isna().sum()"
      ],
      "metadata": {
        "colab": {
          "base_uri": "https://localhost:8080/"
        },
        "id": "3dkg8x8Qhaa3",
        "outputId": "e33fd7e2-3ee8-4d7f-937e-709b8c0ee02c"
      },
      "execution_count": 36,
      "outputs": [
        {
          "output_type": "execute_result",
          "data": {
            "text/plain": [
              "fuel_type                       0\n",
              "body_type                       0\n",
              "kilometers                      0\n",
              "car_type                        0\n",
              "owner_no                        0\n",
              "owner                           0\n",
              "original_equip_manufacture      0\n",
              "car_model                       0\n",
              "model_year                      0\n",
              "car_variant_name                0\n",
              "asking_price_of_the_car         0\n",
              "negotiable_status               0\n",
              "chance_of_selling               0\n",
              "milege                        287\n",
              "seats                          62\n",
              "insurance_validation           56\n",
              "register_year                   0\n",
              "dtype: int64"
            ]
          },
          "metadata": {},
          "execution_count": 36
        }
      ]
    },
    {
      "cell_type": "code",
      "source": [
        "df[\"milege\"].value_counts()"
      ],
      "metadata": {
        "colab": {
          "base_uri": "https://localhost:8080/"
        },
        "id": "GuEJPKushw-_",
        "outputId": "f979b685-a494-49e2-b406-ef16588f0a90"
      },
      "execution_count": 37,
      "outputs": [
        {
          "output_type": "execute_result",
          "data": {
            "text/plain": [
              "18.9 kmpl     306\n",
              "18.6 kmpl     225\n",
              "21.4 kmpl     198\n",
              "17 kmpl       191\n",
              "18 kmpl       145\n",
              "             ... \n",
              "11.81 kmpl      1\n",
              "12.33 kmpl      1\n",
              "7.08 kmpl       1\n",
              "17.97 kmpl      1\n",
              "14.85 kmpl      1\n",
              "Name: milege, Length: 522, dtype: int64"
            ]
          },
          "metadata": {},
          "execution_count": 37
        }
      ]
    },
    {
      "cell_type": "code",
      "source": [
        "df[\"milege\"].mode()"
      ],
      "metadata": {
        "colab": {
          "base_uri": "https://localhost:8080/"
        },
        "id": "j3Fr-N2_jDAT",
        "outputId": "4cf53b56-998b-48f3-fce0-013e42fbedb8"
      },
      "execution_count": 38,
      "outputs": [
        {
          "output_type": "execute_result",
          "data": {
            "text/plain": [
              "0    18.9 kmpl\n",
              "Name: milege, dtype: object"
            ]
          },
          "metadata": {},
          "execution_count": 38
        }
      ]
    },
    {
      "cell_type": "code",
      "source": [
        "df[\"milege\"] = df[\"milege\"].fillna(df[\"milege\"].mode()[0])"
      ],
      "metadata": {
        "id": "Upo2gOKRh3yf"
      },
      "execution_count": 39,
      "outputs": []
    },
    {
      "cell_type": "code",
      "source": [
        "df.isna().sum()"
      ],
      "metadata": {
        "colab": {
          "base_uri": "https://localhost:8080/"
        },
        "id": "XWAnFFKWilDf",
        "outputId": "34d724b5-ee07-4ef4-f269-66b3c943cefa"
      },
      "execution_count": 40,
      "outputs": [
        {
          "output_type": "execute_result",
          "data": {
            "text/plain": [
              "fuel_type                      0\n",
              "body_type                      0\n",
              "kilometers                     0\n",
              "car_type                       0\n",
              "owner_no                       0\n",
              "owner                          0\n",
              "original_equip_manufacture     0\n",
              "car_model                      0\n",
              "model_year                     0\n",
              "car_variant_name               0\n",
              "asking_price_of_the_car        0\n",
              "negotiable_status              0\n",
              "chance_of_selling              0\n",
              "milege                         0\n",
              "seats                         62\n",
              "insurance_validation          56\n",
              "register_year                  0\n",
              "dtype: int64"
            ]
          },
          "metadata": {},
          "execution_count": 40
        }
      ]
    },
    {
      "cell_type": "code",
      "source": [
        "df[\"seats\"].value_counts()"
      ],
      "metadata": {
        "colab": {
          "base_uri": "https://localhost:8080/"
        },
        "id": "kZBji8PBjJ2H",
        "outputId": "0ebc62e2-1ff5-4766-a02d-f22955e091ea"
      },
      "execution_count": 41,
      "outputs": [
        {
          "output_type": "execute_result",
          "data": {
            "text/plain": [
              "5 Seats     7308\n",
              "7 Seats      727\n",
              "6 Seats       98\n",
              "4 Seats       91\n",
              "8 Seats       61\n",
              "9 Seats       11\n",
              "2 Seats        7\n",
              "10 Seats       4\n",
              "Name: seats, dtype: int64"
            ]
          },
          "metadata": {},
          "execution_count": 41
        }
      ]
    },
    {
      "cell_type": "code",
      "source": [
        "df[\"seats\"].mode()[0]"
      ],
      "metadata": {
        "colab": {
          "base_uri": "https://localhost:8080/",
          "height": 36
        },
        "id": "VL77FgQajRqo",
        "outputId": "9484860a-7c3d-42f3-cdf4-589b76ea9d7f"
      },
      "execution_count": 42,
      "outputs": [
        {
          "output_type": "execute_result",
          "data": {
            "text/plain": [
              "'5 Seats'"
            ],
            "application/vnd.google.colaboratory.intrinsic+json": {
              "type": "string"
            }
          },
          "metadata": {},
          "execution_count": 42
        }
      ]
    },
    {
      "cell_type": "code",
      "source": [
        "df[\"seats\"] = df[\"seats\"].fillna(df[\"seats\"].mode()[0])"
      ],
      "metadata": {
        "id": "1py86H0xjjDg"
      },
      "execution_count": 43,
      "outputs": []
    },
    {
      "cell_type": "code",
      "source": [
        "df.isna().sum()"
      ],
      "metadata": {
        "colab": {
          "base_uri": "https://localhost:8080/"
        },
        "id": "1Tcc7R7zjzOg",
        "outputId": "cf3d0734-a1aa-4f62-9833-16a57dec4342"
      },
      "execution_count": 44,
      "outputs": [
        {
          "output_type": "execute_result",
          "data": {
            "text/plain": [
              "fuel_type                      0\n",
              "body_type                      0\n",
              "kilometers                     0\n",
              "car_type                       0\n",
              "owner_no                       0\n",
              "owner                          0\n",
              "original_equip_manufacture     0\n",
              "car_model                      0\n",
              "model_year                     0\n",
              "car_variant_name               0\n",
              "asking_price_of_the_car        0\n",
              "negotiable_status              0\n",
              "chance_of_selling              0\n",
              "milege                         0\n",
              "seats                          0\n",
              "insurance_validation          56\n",
              "register_year                  0\n",
              "dtype: int64"
            ]
          },
          "metadata": {},
          "execution_count": 44
        }
      ]
    },
    {
      "cell_type": "code",
      "source": [
        "df[\"insurance_validation\"].value_counts()"
      ],
      "metadata": {
        "colab": {
          "base_uri": "https://localhost:8080/"
        },
        "id": "G6AEWefvj1Ag",
        "outputId": "7c304c05-af78-4a0a-8666-0ad8777d2c9a"
      },
      "execution_count": 45,
      "outputs": [
        {
          "output_type": "execute_result",
          "data": {
            "text/plain": [
              "Third Party insurance    4013\n",
              "Comprehensive            3143\n",
              "Third Party               628\n",
              "Zero Dep                  303\n",
              "Not Available             222\n",
              "1                           3\n",
              "2                           1\n",
              "Name: insurance_validation, dtype: int64"
            ]
          },
          "metadata": {},
          "execution_count": 45
        }
      ]
    },
    {
      "cell_type": "code",
      "source": [
        "df[\"insurance_validation\"] = df[\"insurance_validation\"].fillna(df[\"insurance_validation\"].mode()[0])"
      ],
      "metadata": {
        "id": "c9aEqWVCj_HI"
      },
      "execution_count": 46,
      "outputs": []
    },
    {
      "cell_type": "code",
      "source": [
        "df.isna().sum()"
      ],
      "metadata": {
        "colab": {
          "base_uri": "https://localhost:8080/"
        },
        "id": "Z_r-soj9kUa_",
        "outputId": "e15e99f4-8209-4752-eab6-e514febd2c85"
      },
      "execution_count": 47,
      "outputs": [
        {
          "output_type": "execute_result",
          "data": {
            "text/plain": [
              "fuel_type                     0\n",
              "body_type                     0\n",
              "kilometers                    0\n",
              "car_type                      0\n",
              "owner_no                      0\n",
              "owner                         0\n",
              "original_equip_manufacture    0\n",
              "car_model                     0\n",
              "model_year                    0\n",
              "car_variant_name              0\n",
              "asking_price_of_the_car       0\n",
              "negotiable_status             0\n",
              "chance_of_selling             0\n",
              "milege                        0\n",
              "seats                         0\n",
              "insurance_validation          0\n",
              "register_year                 0\n",
              "dtype: int64"
            ]
          },
          "metadata": {},
          "execution_count": 47
        }
      ]
    },
    {
      "cell_type": "code",
      "source": [
        "df.to_csv(\"filtered_cardheko_dataset.csv\",index=False)"
      ],
      "metadata": {
        "id": "6bbBlwIEkWEe"
      },
      "execution_count": 48,
      "outputs": []
    },
    {
      "cell_type": "code",
      "source": [
        "df.rename(columns={\"asking_price_of_the_car\":\"price\"},inplace=True)"
      ],
      "metadata": {
        "id": "xc9jrjsPlYzC"
      },
      "execution_count": 49,
      "outputs": []
    },
    {
      "cell_type": "code",
      "source": [
        "import numpy as np\n",
        "\n",
        "# Calculate IQR for numerical columns and store them in a dictionary\n",
        "iqr_values = {}\n",
        "num = df.select_dtypes(np.number)\n",
        "num_columns = num.columns\n",
        "for col in num_columns:\n",
        "    q1 = df[col].quantile(0.25)\n",
        "    q3 = df[col].quantile(0.75)\n",
        "    iqr_values[col] = q3 - q1\n",
        "\n",
        "def treat_outliers_IQR(df):\n",
        "    # Use the stored IQR values to identify outliers\n",
        "    num = df.select_dtypes(np.number)\n",
        "    num_columns = num.columns\n",
        "    for col in num_columns:\n",
        "        lower_bound = q1 - 1.5 * iqr_values[col]\n",
        "        upper_bound = q3 + 1.5 * iqr_values[col]\n",
        "        outliers = df[(df[col] < lower_bound) | (df[col] > upper_bound)]\n",
        "        return outliers"
      ],
      "metadata": {
        "id": "SCriKFfHk5xf"
      },
      "execution_count": 51,
      "outputs": []
    },
    {
      "cell_type": "code",
      "source": [
        "treat_outliers_IQR(df)"
      ],
      "metadata": {
        "id": "YvbkFyexlSE3",
        "colab": {
          "base_uri": "https://localhost:8080/",
          "height": 617
        },
        "outputId": "55ad2830-d6bd-47f0-d738-3e890513d90c"
      },
      "execution_count": 52,
      "outputs": [
        {
          "output_type": "execute_result",
          "data": {
            "text/plain": [
              "     fuel_type  body_type kilometers   car_type  owner_no      owner  \\\n",
              "0       Petrol      Sedan     70,000  Automatic         3  3rd Owner   \n",
              "1       Petrol  Hatchback     23,981     Manual         1  1st Owner   \n",
              "2       Petrol        SUV      7,100  Automatic         1  1st Owner   \n",
              "3       Petrol  Hatchback     71,574     Manual         2  2nd Owner   \n",
              "4       Diesel        SUV     50,000  Automatic         2  2nd Owner   \n",
              "...        ...        ...        ...        ...       ...        ...   \n",
              "1414    Petrol  Hatchback     42,891  Automatic         1  1st Owner   \n",
              "1415    Diesel        SUV     59,100     Manual         1  1st Owner   \n",
              "1416    Petrol        SUV     55,913  Automatic         1  1st Owner   \n",
              "1417    Diesel        SUV     65,000  Automatic         1  1st Owner   \n",
              "1418    Diesel      Sedan     60,000  Automatic         1  1st Owner   \n",
              "\n",
              "     original_equip_manufacture          car_model  model_year  \\\n",
              "0                        Toyota       Toyota Camry        2014   \n",
              "1                        Datsun      Datsun RediGO        2017   \n",
              "2                       Renault      Renault Kiger        2021   \n",
              "3                       Hyundai        Hyundai i20        2011   \n",
              "4                          Audi            Audi Q3        2014   \n",
              "...                         ...                ...         ...   \n",
              "1414                     Maruti       Maruti Swift        2018   \n",
              "1415                    Renault     Renault Duster        2018   \n",
              "1416                       Tata         Tata Nexon        2018   \n",
              "1417                 Volkswagen  Volkswagen Tiguan        2017   \n",
              "1418                        BMW    BMW 3 Series GT        2019   \n",
              "\n",
              "            car_variant_name    price negotiable_status  \\\n",
              "0                     Hybrid   975000                No   \n",
              "1                   T Option   266000                No   \n",
              "2                    RXT AMT   595000                No   \n",
              "3                 1.2 Sportz   223000                No   \n",
              "4     35 TDI Quattro Premium  1200000                No   \n",
              "...                      ...      ...               ...   \n",
              "1414                 AMT VXI   620000                No   \n",
              "1415         85PS Diesel RxZ   890000                No   \n",
              "1416   1.2 Revotron XZA Plus   801000                No   \n",
              "1417        2.0 TDI Highline  2050000                No   \n",
              "1418                   Sport  3575000                No   \n",
              "\n",
              "                        chance_of_selling      milege    seats  \\\n",
              "0     High chances of sale in next 6 days  19.16 kmpl  5 Seats   \n",
              "1     High chances of sale in next 6 days   22.7 kmpl  5 Seats   \n",
              "2     High chances of sale in next 6 days  19.03 kmpl  5 Seats   \n",
              "3     High chances of sale in next 6 days     17 kmpl  5 Seats   \n",
              "4     High chances of sale in next 6 days  15.73 kmpl  5 Seats   \n",
              "...                                   ...         ...      ...   \n",
              "1414  High chances of sale in next 6 days     22 kmpl  5 Seats   \n",
              "1415  High chances of sale in next 6 days  19.87 kmpl  5 Seats   \n",
              "1416  High chances of sale in next 6 days     17 kmpl  5 Seats   \n",
              "1417  High chances of sale in next 6 days  16.65 kmpl  5 Seats   \n",
              "1418  High chances of sale in next 6 days  21.76 kmpl  5 Seats   \n",
              "\n",
              "       insurance_validation register_year  \n",
              "0     Third Party insurance         01-14  \n",
              "1             Comprehensive         07-17  \n",
              "2             Comprehensive         11-21  \n",
              "3               Third Party         02-12  \n",
              "4     Third Party insurance         01-14  \n",
              "...                     ...           ...  \n",
              "1414  Third Party insurance         06-18  \n",
              "1415  Third Party insurance         02-19  \n",
              "1416          Not Available         08-18  \n",
              "1417          Comprehensive         08-17  \n",
              "1418          Comprehensive         10-19  \n",
              "\n",
              "[8369 rows x 17 columns]"
            ],
            "text/html": [
              "\n",
              "  <div id=\"df-bd02a2a8-e4c2-4126-a43c-95b8182987e4\" class=\"colab-df-container\">\n",
              "    <div>\n",
              "<style scoped>\n",
              "    .dataframe tbody tr th:only-of-type {\n",
              "        vertical-align: middle;\n",
              "    }\n",
              "\n",
              "    .dataframe tbody tr th {\n",
              "        vertical-align: top;\n",
              "    }\n",
              "\n",
              "    .dataframe thead th {\n",
              "        text-align: right;\n",
              "    }\n",
              "</style>\n",
              "<table border=\"1\" class=\"dataframe\">\n",
              "  <thead>\n",
              "    <tr style=\"text-align: right;\">\n",
              "      <th></th>\n",
              "      <th>fuel_type</th>\n",
              "      <th>body_type</th>\n",
              "      <th>kilometers</th>\n",
              "      <th>car_type</th>\n",
              "      <th>owner_no</th>\n",
              "      <th>owner</th>\n",
              "      <th>original_equip_manufacture</th>\n",
              "      <th>car_model</th>\n",
              "      <th>model_year</th>\n",
              "      <th>car_variant_name</th>\n",
              "      <th>price</th>\n",
              "      <th>negotiable_status</th>\n",
              "      <th>chance_of_selling</th>\n",
              "      <th>milege</th>\n",
              "      <th>seats</th>\n",
              "      <th>insurance_validation</th>\n",
              "      <th>register_year</th>\n",
              "    </tr>\n",
              "  </thead>\n",
              "  <tbody>\n",
              "    <tr>\n",
              "      <th>0</th>\n",
              "      <td>Petrol</td>\n",
              "      <td>Sedan</td>\n",
              "      <td>70,000</td>\n",
              "      <td>Automatic</td>\n",
              "      <td>3</td>\n",
              "      <td>3rd Owner</td>\n",
              "      <td>Toyota</td>\n",
              "      <td>Toyota Camry</td>\n",
              "      <td>2014</td>\n",
              "      <td>Hybrid</td>\n",
              "      <td>975000</td>\n",
              "      <td>No</td>\n",
              "      <td>High chances of sale in next 6 days</td>\n",
              "      <td>19.16 kmpl</td>\n",
              "      <td>5 Seats</td>\n",
              "      <td>Third Party insurance</td>\n",
              "      <td>01-14</td>\n",
              "    </tr>\n",
              "    <tr>\n",
              "      <th>1</th>\n",
              "      <td>Petrol</td>\n",
              "      <td>Hatchback</td>\n",
              "      <td>23,981</td>\n",
              "      <td>Manual</td>\n",
              "      <td>1</td>\n",
              "      <td>1st Owner</td>\n",
              "      <td>Datsun</td>\n",
              "      <td>Datsun RediGO</td>\n",
              "      <td>2017</td>\n",
              "      <td>T Option</td>\n",
              "      <td>266000</td>\n",
              "      <td>No</td>\n",
              "      <td>High chances of sale in next 6 days</td>\n",
              "      <td>22.7 kmpl</td>\n",
              "      <td>5 Seats</td>\n",
              "      <td>Comprehensive</td>\n",
              "      <td>07-17</td>\n",
              "    </tr>\n",
              "    <tr>\n",
              "      <th>2</th>\n",
              "      <td>Petrol</td>\n",
              "      <td>SUV</td>\n",
              "      <td>7,100</td>\n",
              "      <td>Automatic</td>\n",
              "      <td>1</td>\n",
              "      <td>1st Owner</td>\n",
              "      <td>Renault</td>\n",
              "      <td>Renault Kiger</td>\n",
              "      <td>2021</td>\n",
              "      <td>RXT AMT</td>\n",
              "      <td>595000</td>\n",
              "      <td>No</td>\n",
              "      <td>High chances of sale in next 6 days</td>\n",
              "      <td>19.03 kmpl</td>\n",
              "      <td>5 Seats</td>\n",
              "      <td>Comprehensive</td>\n",
              "      <td>11-21</td>\n",
              "    </tr>\n",
              "    <tr>\n",
              "      <th>3</th>\n",
              "      <td>Petrol</td>\n",
              "      <td>Hatchback</td>\n",
              "      <td>71,574</td>\n",
              "      <td>Manual</td>\n",
              "      <td>2</td>\n",
              "      <td>2nd Owner</td>\n",
              "      <td>Hyundai</td>\n",
              "      <td>Hyundai i20</td>\n",
              "      <td>2011</td>\n",
              "      <td>1.2 Sportz</td>\n",
              "      <td>223000</td>\n",
              "      <td>No</td>\n",
              "      <td>High chances of sale in next 6 days</td>\n",
              "      <td>17 kmpl</td>\n",
              "      <td>5 Seats</td>\n",
              "      <td>Third Party</td>\n",
              "      <td>02-12</td>\n",
              "    </tr>\n",
              "    <tr>\n",
              "      <th>4</th>\n",
              "      <td>Diesel</td>\n",
              "      <td>SUV</td>\n",
              "      <td>50,000</td>\n",
              "      <td>Automatic</td>\n",
              "      <td>2</td>\n",
              "      <td>2nd Owner</td>\n",
              "      <td>Audi</td>\n",
              "      <td>Audi Q3</td>\n",
              "      <td>2014</td>\n",
              "      <td>35 TDI Quattro Premium</td>\n",
              "      <td>1200000</td>\n",
              "      <td>No</td>\n",
              "      <td>High chances of sale in next 6 days</td>\n",
              "      <td>15.73 kmpl</td>\n",
              "      <td>5 Seats</td>\n",
              "      <td>Third Party insurance</td>\n",
              "      <td>01-14</td>\n",
              "    </tr>\n",
              "    <tr>\n",
              "      <th>...</th>\n",
              "      <td>...</td>\n",
              "      <td>...</td>\n",
              "      <td>...</td>\n",
              "      <td>...</td>\n",
              "      <td>...</td>\n",
              "      <td>...</td>\n",
              "      <td>...</td>\n",
              "      <td>...</td>\n",
              "      <td>...</td>\n",
              "      <td>...</td>\n",
              "      <td>...</td>\n",
              "      <td>...</td>\n",
              "      <td>...</td>\n",
              "      <td>...</td>\n",
              "      <td>...</td>\n",
              "      <td>...</td>\n",
              "      <td>...</td>\n",
              "    </tr>\n",
              "    <tr>\n",
              "      <th>1414</th>\n",
              "      <td>Petrol</td>\n",
              "      <td>Hatchback</td>\n",
              "      <td>42,891</td>\n",
              "      <td>Automatic</td>\n",
              "      <td>1</td>\n",
              "      <td>1st Owner</td>\n",
              "      <td>Maruti</td>\n",
              "      <td>Maruti Swift</td>\n",
              "      <td>2018</td>\n",
              "      <td>AMT VXI</td>\n",
              "      <td>620000</td>\n",
              "      <td>No</td>\n",
              "      <td>High chances of sale in next 6 days</td>\n",
              "      <td>22 kmpl</td>\n",
              "      <td>5 Seats</td>\n",
              "      <td>Third Party insurance</td>\n",
              "      <td>06-18</td>\n",
              "    </tr>\n",
              "    <tr>\n",
              "      <th>1415</th>\n",
              "      <td>Diesel</td>\n",
              "      <td>SUV</td>\n",
              "      <td>59,100</td>\n",
              "      <td>Manual</td>\n",
              "      <td>1</td>\n",
              "      <td>1st Owner</td>\n",
              "      <td>Renault</td>\n",
              "      <td>Renault Duster</td>\n",
              "      <td>2018</td>\n",
              "      <td>85PS Diesel RxZ</td>\n",
              "      <td>890000</td>\n",
              "      <td>No</td>\n",
              "      <td>High chances of sale in next 6 days</td>\n",
              "      <td>19.87 kmpl</td>\n",
              "      <td>5 Seats</td>\n",
              "      <td>Third Party insurance</td>\n",
              "      <td>02-19</td>\n",
              "    </tr>\n",
              "    <tr>\n",
              "      <th>1416</th>\n",
              "      <td>Petrol</td>\n",
              "      <td>SUV</td>\n",
              "      <td>55,913</td>\n",
              "      <td>Automatic</td>\n",
              "      <td>1</td>\n",
              "      <td>1st Owner</td>\n",
              "      <td>Tata</td>\n",
              "      <td>Tata Nexon</td>\n",
              "      <td>2018</td>\n",
              "      <td>1.2 Revotron XZA Plus</td>\n",
              "      <td>801000</td>\n",
              "      <td>No</td>\n",
              "      <td>High chances of sale in next 6 days</td>\n",
              "      <td>17 kmpl</td>\n",
              "      <td>5 Seats</td>\n",
              "      <td>Not Available</td>\n",
              "      <td>08-18</td>\n",
              "    </tr>\n",
              "    <tr>\n",
              "      <th>1417</th>\n",
              "      <td>Diesel</td>\n",
              "      <td>SUV</td>\n",
              "      <td>65,000</td>\n",
              "      <td>Automatic</td>\n",
              "      <td>1</td>\n",
              "      <td>1st Owner</td>\n",
              "      <td>Volkswagen</td>\n",
              "      <td>Volkswagen Tiguan</td>\n",
              "      <td>2017</td>\n",
              "      <td>2.0 TDI Highline</td>\n",
              "      <td>2050000</td>\n",
              "      <td>No</td>\n",
              "      <td>High chances of sale in next 6 days</td>\n",
              "      <td>16.65 kmpl</td>\n",
              "      <td>5 Seats</td>\n",
              "      <td>Comprehensive</td>\n",
              "      <td>08-17</td>\n",
              "    </tr>\n",
              "    <tr>\n",
              "      <th>1418</th>\n",
              "      <td>Diesel</td>\n",
              "      <td>Sedan</td>\n",
              "      <td>60,000</td>\n",
              "      <td>Automatic</td>\n",
              "      <td>1</td>\n",
              "      <td>1st Owner</td>\n",
              "      <td>BMW</td>\n",
              "      <td>BMW 3 Series GT</td>\n",
              "      <td>2019</td>\n",
              "      <td>Sport</td>\n",
              "      <td>3575000</td>\n",
              "      <td>No</td>\n",
              "      <td>High chances of sale in next 6 days</td>\n",
              "      <td>21.76 kmpl</td>\n",
              "      <td>5 Seats</td>\n",
              "      <td>Comprehensive</td>\n",
              "      <td>10-19</td>\n",
              "    </tr>\n",
              "  </tbody>\n",
              "</table>\n",
              "<p>8369 rows × 17 columns</p>\n",
              "</div>\n",
              "    <div class=\"colab-df-buttons\">\n",
              "\n",
              "  <div class=\"colab-df-container\">\n",
              "    <button class=\"colab-df-convert\" onclick=\"convertToInteractive('df-bd02a2a8-e4c2-4126-a43c-95b8182987e4')\"\n",
              "            title=\"Convert this dataframe to an interactive table.\"\n",
              "            style=\"display:none;\">\n",
              "\n",
              "  <svg xmlns=\"http://www.w3.org/2000/svg\" height=\"24px\" viewBox=\"0 -960 960 960\">\n",
              "    <path d=\"M120-120v-720h720v720H120Zm60-500h600v-160H180v160Zm220 220h160v-160H400v160Zm0 220h160v-160H400v160ZM180-400h160v-160H180v160Zm440 0h160v-160H620v160ZM180-180h160v-160H180v160Zm440 0h160v-160H620v160Z\"/>\n",
              "  </svg>\n",
              "    </button>\n",
              "\n",
              "  <style>\n",
              "    .colab-df-container {\n",
              "      display:flex;\n",
              "      gap: 12px;\n",
              "    }\n",
              "\n",
              "    .colab-df-convert {\n",
              "      background-color: #E8F0FE;\n",
              "      border: none;\n",
              "      border-radius: 50%;\n",
              "      cursor: pointer;\n",
              "      display: none;\n",
              "      fill: #1967D2;\n",
              "      height: 32px;\n",
              "      padding: 0 0 0 0;\n",
              "      width: 32px;\n",
              "    }\n",
              "\n",
              "    .colab-df-convert:hover {\n",
              "      background-color: #E2EBFA;\n",
              "      box-shadow: 0px 1px 2px rgba(60, 64, 67, 0.3), 0px 1px 3px 1px rgba(60, 64, 67, 0.15);\n",
              "      fill: #174EA6;\n",
              "    }\n",
              "\n",
              "    .colab-df-buttons div {\n",
              "      margin-bottom: 4px;\n",
              "    }\n",
              "\n",
              "    [theme=dark] .colab-df-convert {\n",
              "      background-color: #3B4455;\n",
              "      fill: #D2E3FC;\n",
              "    }\n",
              "\n",
              "    [theme=dark] .colab-df-convert:hover {\n",
              "      background-color: #434B5C;\n",
              "      box-shadow: 0px 1px 3px 1px rgba(0, 0, 0, 0.15);\n",
              "      filter: drop-shadow(0px 1px 2px rgba(0, 0, 0, 0.3));\n",
              "      fill: #FFFFFF;\n",
              "    }\n",
              "  </style>\n",
              "\n",
              "    <script>\n",
              "      const buttonEl =\n",
              "        document.querySelector('#df-bd02a2a8-e4c2-4126-a43c-95b8182987e4 button.colab-df-convert');\n",
              "      buttonEl.style.display =\n",
              "        google.colab.kernel.accessAllowed ? 'block' : 'none';\n",
              "\n",
              "      async function convertToInteractive(key) {\n",
              "        const element = document.querySelector('#df-bd02a2a8-e4c2-4126-a43c-95b8182987e4');\n",
              "        const dataTable =\n",
              "          await google.colab.kernel.invokeFunction('convertToInteractive',\n",
              "                                                    [key], {});\n",
              "        if (!dataTable) return;\n",
              "\n",
              "        const docLinkHtml = 'Like what you see? Visit the ' +\n",
              "          '<a target=\"_blank\" href=https://colab.research.google.com/notebooks/data_table.ipynb>data table notebook</a>'\n",
              "          + ' to learn more about interactive tables.';\n",
              "        element.innerHTML = '';\n",
              "        dataTable['output_type'] = 'display_data';\n",
              "        await google.colab.output.renderOutput(dataTable, element);\n",
              "        const docLink = document.createElement('div');\n",
              "        docLink.innerHTML = docLinkHtml;\n",
              "        element.appendChild(docLink);\n",
              "      }\n",
              "    </script>\n",
              "  </div>\n",
              "\n",
              "\n",
              "<div id=\"df-5fd2504b-fc2a-48f8-a383-d69e02508543\">\n",
              "  <button class=\"colab-df-quickchart\" onclick=\"quickchart('df-5fd2504b-fc2a-48f8-a383-d69e02508543')\"\n",
              "            title=\"Suggest charts\"\n",
              "            style=\"display:none;\">\n",
              "\n",
              "<svg xmlns=\"http://www.w3.org/2000/svg\" height=\"24px\"viewBox=\"0 0 24 24\"\n",
              "     width=\"24px\">\n",
              "    <g>\n",
              "        <path d=\"M19 3H5c-1.1 0-2 .9-2 2v14c0 1.1.9 2 2 2h14c1.1 0 2-.9 2-2V5c0-1.1-.9-2-2-2zM9 17H7v-7h2v7zm4 0h-2V7h2v10zm4 0h-2v-4h2v4z\"/>\n",
              "    </g>\n",
              "</svg>\n",
              "  </button>\n",
              "\n",
              "<style>\n",
              "  .colab-df-quickchart {\n",
              "      --bg-color: #E8F0FE;\n",
              "      --fill-color: #1967D2;\n",
              "      --hover-bg-color: #E2EBFA;\n",
              "      --hover-fill-color: #174EA6;\n",
              "      --disabled-fill-color: #AAA;\n",
              "      --disabled-bg-color: #DDD;\n",
              "  }\n",
              "\n",
              "  [theme=dark] .colab-df-quickchart {\n",
              "      --bg-color: #3B4455;\n",
              "      --fill-color: #D2E3FC;\n",
              "      --hover-bg-color: #434B5C;\n",
              "      --hover-fill-color: #FFFFFF;\n",
              "      --disabled-bg-color: #3B4455;\n",
              "      --disabled-fill-color: #666;\n",
              "  }\n",
              "\n",
              "  .colab-df-quickchart {\n",
              "    background-color: var(--bg-color);\n",
              "    border: none;\n",
              "    border-radius: 50%;\n",
              "    cursor: pointer;\n",
              "    display: none;\n",
              "    fill: var(--fill-color);\n",
              "    height: 32px;\n",
              "    padding: 0;\n",
              "    width: 32px;\n",
              "  }\n",
              "\n",
              "  .colab-df-quickchart:hover {\n",
              "    background-color: var(--hover-bg-color);\n",
              "    box-shadow: 0 1px 2px rgba(60, 64, 67, 0.3), 0 1px 3px 1px rgba(60, 64, 67, 0.15);\n",
              "    fill: var(--button-hover-fill-color);\n",
              "  }\n",
              "\n",
              "  .colab-df-quickchart-complete:disabled,\n",
              "  .colab-df-quickchart-complete:disabled:hover {\n",
              "    background-color: var(--disabled-bg-color);\n",
              "    fill: var(--disabled-fill-color);\n",
              "    box-shadow: none;\n",
              "  }\n",
              "\n",
              "  .colab-df-spinner {\n",
              "    border: 2px solid var(--fill-color);\n",
              "    border-color: transparent;\n",
              "    border-bottom-color: var(--fill-color);\n",
              "    animation:\n",
              "      spin 1s steps(1) infinite;\n",
              "  }\n",
              "\n",
              "  @keyframes spin {\n",
              "    0% {\n",
              "      border-color: transparent;\n",
              "      border-bottom-color: var(--fill-color);\n",
              "      border-left-color: var(--fill-color);\n",
              "    }\n",
              "    20% {\n",
              "      border-color: transparent;\n",
              "      border-left-color: var(--fill-color);\n",
              "      border-top-color: var(--fill-color);\n",
              "    }\n",
              "    30% {\n",
              "      border-color: transparent;\n",
              "      border-left-color: var(--fill-color);\n",
              "      border-top-color: var(--fill-color);\n",
              "      border-right-color: var(--fill-color);\n",
              "    }\n",
              "    40% {\n",
              "      border-color: transparent;\n",
              "      border-right-color: var(--fill-color);\n",
              "      border-top-color: var(--fill-color);\n",
              "    }\n",
              "    60% {\n",
              "      border-color: transparent;\n",
              "      border-right-color: var(--fill-color);\n",
              "    }\n",
              "    80% {\n",
              "      border-color: transparent;\n",
              "      border-right-color: var(--fill-color);\n",
              "      border-bottom-color: var(--fill-color);\n",
              "    }\n",
              "    90% {\n",
              "      border-color: transparent;\n",
              "      border-bottom-color: var(--fill-color);\n",
              "    }\n",
              "  }\n",
              "</style>\n",
              "\n",
              "  <script>\n",
              "    async function quickchart(key) {\n",
              "      const quickchartButtonEl =\n",
              "        document.querySelector('#' + key + ' button');\n",
              "      quickchartButtonEl.disabled = true;  // To prevent multiple clicks.\n",
              "      quickchartButtonEl.classList.add('colab-df-spinner');\n",
              "      try {\n",
              "        const charts = await google.colab.kernel.invokeFunction(\n",
              "            'suggestCharts', [key], {});\n",
              "      } catch (error) {\n",
              "        console.error('Error during call to suggestCharts:', error);\n",
              "      }\n",
              "      quickchartButtonEl.classList.remove('colab-df-spinner');\n",
              "      quickchartButtonEl.classList.add('colab-df-quickchart-complete');\n",
              "    }\n",
              "    (() => {\n",
              "      let quickchartButtonEl =\n",
              "        document.querySelector('#df-5fd2504b-fc2a-48f8-a383-d69e02508543 button');\n",
              "      quickchartButtonEl.style.display =\n",
              "        google.colab.kernel.accessAllowed ? 'block' : 'none';\n",
              "    })();\n",
              "  </script>\n",
              "</div>\n",
              "\n",
              "    </div>\n",
              "  </div>\n"
            ]
          },
          "metadata": {},
          "execution_count": 52
        }
      ]
    },
    {
      "cell_type": "code",
      "source": [
        "import numpy as np\n",
        "num = df.select_dtypes(np.number)"
      ],
      "metadata": {
        "id": "sg_UGi59nyE3"
      },
      "execution_count": 53,
      "outputs": []
    },
    {
      "cell_type": "code",
      "source": [
        "import warnings\n",
        "warnings.filterwarnings(\"ignore\")"
      ],
      "metadata": {
        "id": "cOy-8JlHoRav"
      },
      "execution_count": 54,
      "outputs": []
    },
    {
      "cell_type": "code",
      "source": [
        "import seaborn as sns\n",
        "from scipy.stats import skew\n",
        "import matplotlib.pyplot as plt\n",
        "\n",
        "for i in num.columns:\n",
        "  print(i)\n",
        "  print(skew(num[i]))\n",
        "  plt.figure()\n",
        "  sns.distplot(num[i])\n",
        "  plt.show()"
      ],
      "metadata": {
        "colab": {
          "base_uri": "https://localhost:8080/",
          "height": 1000
        },
        "id": "v_mqCx9En-M2",
        "outputId": "23361156-9ea7-43ad-daae-c6bcb652256a"
      },
      "execution_count": 55,
      "outputs": [
        {
          "output_type": "stream",
          "name": "stdout",
          "text": [
            "owner_no\n",
            "1.9628686140430545\n"
          ]
        },
        {
          "output_type": "display_data",
          "data": {
            "text/plain": [
              "<Figure size 640x480 with 1 Axes>"
            ],
            "image/png": "[encoded data removed]"
          },
          "metadata": {}
        },
        {
          "output_type": "stream",
          "name": "stdout",
          "text": [
            "model_year\n",
            "-0.9117351462798478\n"
          ]
        },
        {
          "output_type": "display_data",
          "data": {
            "text/plain": [
              "<Figure size 640x480 with 1 Axes>"
            ],
            "image/png": "[encoded data removed]"
          },
          "metadata": {}
        },
        {
          "output_type": "stream",
          "name": "stdout",
          "text": [
            "price\n",
            "10.002946124288535\n"
          ]
        },
        {
          "output_type": "display_data",
          "data": {
            "text/plain": [
              "<Figure size 640x480 with 1 Axes>"
            ],
            "image/png": "[encoded data removed]"
          },
          "metadata": {}
        }
      ]
    },
    {
      "cell_type": "code",
      "source": [
        "mask1 = df[\"price\"] <= 0\n",
        "print(mask1.sum())\n",
        "df.loc[mask1,\"price\"] = np.nan\n",
        "\n",
        "mask2 = df[\"model_year\"] <= 0\n",
        "print(mask2.sum())\n",
        "df.loc[mask2,\"model_year\"] = np.nan\n",
        "\n",
        "mask3 = df[\"owner_no\"] <= 0\n",
        "print(mask3.sum())\n",
        "df.loc[mask3,\"owner_no\"]"
      ],
      "metadata": {
        "colab": {
          "base_uri": "https://localhost:8080/"
        },
        "id": "J55XbNQcok6R",
        "outputId": "bc12cd4e-ada6-483f-f2f3-e1eaac86a745"
      },
      "execution_count": 56,
      "outputs": [
        {
          "output_type": "stream",
          "name": "stdout",
          "text": [
            "0\n",
            "0\n",
            "0\n"
          ]
        },
        {
          "output_type": "execute_result",
          "data": {
            "text/plain": [
              "Series([], Name: owner_no, dtype: int64)"
            ]
          },
          "metadata": {},
          "execution_count": 56
        }
      ]
    },
    {
      "cell_type": "code",
      "source": [
        "df.isna().sum()"
      ],
      "metadata": {
        "colab": {
          "base_uri": "https://localhost:8080/"
        },
        "id": "0xW-hdbuo0I3",
        "outputId": "a8fe6400-282f-456a-f968-69bf18af4ddf"
      },
      "execution_count": 57,
      "outputs": [
        {
          "output_type": "execute_result",
          "data": {
            "text/plain": [
              "fuel_type                     0\n",
              "body_type                     0\n",
              "kilometers                    0\n",
              "car_type                      0\n",
              "owner_no                      0\n",
              "owner                         0\n",
              "original_equip_manufacture    0\n",
              "car_model                     0\n",
              "model_year                    0\n",
              "car_variant_name              0\n",
              "price                         0\n",
              "negotiable_status             0\n",
              "chance_of_selling             0\n",
              "milege                        0\n",
              "seats                         0\n",
              "insurance_validation          0\n",
              "register_year                 0\n",
              "dtype: int64"
            ]
          },
          "metadata": {},
          "execution_count": 57
        }
      ]
    },
    {
      "cell_type": "code",
      "source": [
        "df[\"price_log\"] = np.log(df[\"price\"])\n",
        "print(skew(df[\"price_log\"]))\n",
        "sns.distplot(df[\"price_log\"])\n",
        "plt.show()\n",
        "\n",
        "df[\"owner_no_log\"] = np.log(df[\"owner_no\"])\n",
        "print(skew(df[\"owner_no_log\"]))\n",
        "sns.distplot(df[\"owner_no_log\"])\n",
        "plt.show()"
      ],
      "metadata": {
        "colab": {
          "base_uri": "https://localhost:8080/",
          "height": 918
        },
        "id": "UJhEkOw8qIR-",
        "outputId": "a5904a14-d9ce-4ce9-c9cd-e79444f48a16"
      },
      "execution_count": 58,
      "outputs": [
        {
          "output_type": "stream",
          "name": "stdout",
          "text": [
            "0.3739881761441823\n"
          ]
        },
        {
          "output_type": "display_data",
          "data": {
            "text/plain": [
              "<Figure size 640x480 with 1 Axes>"
            ],
            "image/png": "[encoded data removed]"
          },
          "metadata": {}
        },
        {
          "output_type": "stream",
          "name": "stdout",
          "text": [
            "1.2521307758738176\n"
          ]
        },
        {
          "output_type": "display_data",
          "data": {
            "text/plain": [
              "<Figure size 640x480 with 1 Axes>"
            ],
            "image/png": "[encoded data removed]"
          },
          "metadata": {}
        }
      ]
    },
    {
      "cell_type": "markdown",
      "source": [
        "#**EDA**"
      ],
      "metadata": {
        "id": "6EhYx0w-sQlu"
      }
    },
    {
      "cell_type": "code",
      "source": [
        "df.columns"
      ],
      "metadata": {
        "colab": {
          "base_uri": "https://localhost:8080/"
        },
        "id": "gJ6EsR50qaQB",
        "outputId": "72e5360a-ff19-4745-d02e-398ae578c825"
      },
      "execution_count": 59,
      "outputs": [
        {
          "output_type": "execute_result",
          "data": {
            "text/plain": [
              "Index(['fuel_type', 'body_type', 'kilometers', 'car_type', 'owner_no', 'owner',\n",
              "       'original_equip_manufacture', 'car_model', 'model_year',\n",
              "       'car_variant_name', 'price', 'negotiable_status', 'chance_of_selling',\n",
              "       'milege', 'seats', 'insurance_validation', 'register_year', 'price_log',\n",
              "       'owner_no_log'],\n",
              "      dtype='object')"
            ]
          },
          "metadata": {},
          "execution_count": 59
        }
      ]
    },
    {
      "cell_type": "markdown",
      "source": [
        "##**How the price vary by fuel_type**"
      ],
      "metadata": {
        "id": "FGqdZvY8slJX"
      }
    },
    {
      "cell_type": "code",
      "source": [
        "df.groupby(\"fuel_type\")[\"price\"].sum().sort_values(ascending=False).plot(kind=\"bar\")"
      ],
      "metadata": {
        "colab": {
          "base_uri": "https://localhost:8080/",
          "height": 519
        },
        "id": "IdmmwJdQsiIm",
        "outputId": "e99849ad-d249-4550-b7e9-49f45be200b0"
      },
      "execution_count": 60,
      "outputs": [
        {
          "output_type": "execute_result",
          "data": {
            "text/plain": [
              "<Axes: xlabel='fuel_type'>"
            ]
          },
          "metadata": {},
          "execution_count": 60
        },
        {
          "output_type": "display_data",
          "data": {
            "text/plain": [
              "<Figure size 640x480 with 1 Axes>"
            ],
            "image/png": "[encoded data removed]"
          },
          "metadata": {}
        }
      ]
    },
    {
      "cell_type": "code",
      "source": [
        "df.drop(df[df[\"body_type\"]==\"\"].index,axis=0,inplace=True)"
      ],
      "metadata": {
        "id": "G_GnPBzEujap"
      },
      "execution_count": 61,
      "outputs": []
    },
    {
      "cell_type": "code",
      "source": [
        "df.groupby(\"body_type\")[\"price\"].sum().sort_values(ascending=False).plot(kind=\"bar\")"
      ],
      "metadata": {
        "colab": {
          "base_uri": "https://localhost:8080/",
          "height": 561
        },
        "id": "J-FyZLt6tMe-",
        "outputId": "4ada41f5-7dae-4d83-ea35-112781401f3a"
      },
      "execution_count": 62,
      "outputs": [
        {
          "output_type": "execute_result",
          "data": {
            "text/plain": [
              "<Axes: xlabel='body_type'>"
            ]
          },
          "metadata": {},
          "execution_count": 62
        },
        {
          "output_type": "display_data",
          "data": {
            "text/plain": [
              "<Figure size 640x480 with 1 Axes>"
            ],
            "image/png": "[encoded data removed]"
          },
          "metadata": {}
        }
      ]
    },
    {
      "cell_type": "code",
      "source": [
        "df.groupby(\"original_equip_manufacture\")[\"price\"].sum().sort_values(ascending=False)[:10].plot(kind=\"bar\")"
      ],
      "metadata": {
        "colab": {
          "base_uri": "https://localhost:8080/",
          "height": 573
        },
        "id": "vwectXkZ1d25",
        "outputId": "81eeecbd-b146-4f7c-9111-25800c21b1fe"
      },
      "execution_count": 63,
      "outputs": [
        {
          "output_type": "execute_result",
          "data": {
            "text/plain": [
              "<Axes: xlabel='original_equip_manufacture'>"
            ]
          },
          "metadata": {},
          "execution_count": 63
        },
        {
          "output_type": "display_data",
          "data": {
            "text/plain": [
              "<Figure size 640x480 with 1 Axes>"
            ],
            "image/png": "[encoded data removed]"
          },
          "metadata": {}
        }
      ]
    },
    {
      "cell_type": "code",
      "source": [
        "df.groupby(\"car_type\")[\"price\"].sum().sort_values(ascending=False).plot(kind=\"bar\")"
      ],
      "metadata": {
        "colab": {
          "base_uri": "https://localhost:8080/",
          "height": 539
        },
        "id": "rk4B5WqEtc1k",
        "outputId": "fb364525-0242-4c59-b1c9-2d72f317aff0"
      },
      "execution_count": 64,
      "outputs": [
        {
          "output_type": "execute_result",
          "data": {
            "text/plain": [
              "<Axes: xlabel='car_type'>"
            ]
          },
          "metadata": {},
          "execution_count": 64
        },
        {
          "output_type": "display_data",
          "data": {
            "text/plain": [
              "<Figure size 640x480 with 1 Axes>"
            ],
            "image/png": "[encoded data removed]"
          },
          "metadata": {}
        }
      ]
    },
    {
      "cell_type": "code",
      "source": [
        "df.groupby(\"owner\")[\"price\"].sum().sort_values(ascending=False).plot(kind=\"bar\")"
      ],
      "metadata": {
        "colab": {
          "base_uri": "https://localhost:8080/",
          "height": 544
        },
        "id": "BShZXFj8txvO",
        "outputId": "9d125a81-313b-481c-f9db-728ec8bbb719"
      },
      "execution_count": 65,
      "outputs": [
        {
          "output_type": "execute_result",
          "data": {
            "text/plain": [
              "<Axes: xlabel='owner'>"
            ]
          },
          "metadata": {},
          "execution_count": 65
        },
        {
          "output_type": "display_data",
          "data": {
            "text/plain": [
              "<Figure size 640x480 with 1 Axes>"
            ],
            "image/png": "[encoded data removed]"
          },
          "metadata": {}
        }
      ]
    },
    {
      "cell_type": "code",
      "source": [
        "df.groupby(\"milege\")[\"price\"].sum().sort_values(ascending=False)[:10].plot(kind=\"bar\")"
      ],
      "metadata": {
        "colab": {
          "base_uri": "https://localhost:8080/",
          "height": 546
        },
        "id": "PLexs4yVvQP6",
        "outputId": "0bbd7291-2a4f-447f-cbe2-1db24ad26f35"
      },
      "execution_count": 66,
      "outputs": [
        {
          "output_type": "execute_result",
          "data": {
            "text/plain": [
              "<Axes: xlabel='milege'>"
            ]
          },
          "metadata": {},
          "execution_count": 66
        },
        {
          "output_type": "display_data",
          "data": {
            "text/plain": [
              "<Figure size 640x480 with 1 Axes>"
            ],
            "image/png": "[encoded data removed]"
          },
          "metadata": {}
        }
      ]
    },
    {
      "cell_type": "code",
      "source": [
        "df.groupby(\"seats\")[\"price\"].sum().sort_values(ascending=False).plot(kind=\"bar\")"
      ],
      "metadata": {
        "colab": {
          "base_uri": "https://localhost:8080/",
          "height": 528
        },
        "id": "dBQETVA-vk5x",
        "outputId": "d66d0f71-46f0-4fc0-d5e2-47a73ca22213"
      },
      "execution_count": 67,
      "outputs": [
        {
          "output_type": "execute_result",
          "data": {
            "text/plain": [
              "<Axes: xlabel='seats'>"
            ]
          },
          "metadata": {},
          "execution_count": 67
        },
        {
          "output_type": "display_data",
          "data": {
            "text/plain": [
              "<Figure size 640x480 with 1 Axes>"
            ],
            "image/png": "[encoded data removed]"
          },
          "metadata": {}
        }
      ]
    },
    {
      "cell_type": "markdown",
      "source": [
        "1. **Third Party insurance:**\n",
        "\n",
        "* This is the most basic level of car insurance required by law in most countries.\n",
        "* It covers damage caused to other people's property and vehicles in an accident you are responsible for.\n",
        "* It does not cover damage to your own vehicle or injuries sustained by you or your passengers.\n",
        "2. **Comprehensive insurance**:\n",
        "\n",
        "* This type of insurance provides the most comprehensive coverage.\n",
        "* It covers damage to both your own vehicle and other people's property and vehicles in an accident, regardless of who is at fault.\n",
        "* It may also cover additional benefits like theft, vandalism, and natural disasters.\n",
        "\n",
        "3. **Third Party (limited)**:\n",
        "\n",
        "* This category is less common and might refer to a restricted version of Third Party insurance, potentially covering only specific situations or with lower limits of liability.\n",
        "* Without more information, it's difficult to provide a definitive explanation.\n",
        "\n",
        "4. **Zero Dep**:\n",
        "\n",
        "* This refers to Zero Depreciation insurance, which eliminates depreciation deductions when making claims for damage to your own vehicle.\n",
        "* This means you receive the full insured value of your car, regardless of its age or depreciation.\n",
        "\n",
        "5. **Not Available**:\n",
        "\n",
        "* This category likely indicates instances where insurance information was not available for the car during validation.\n",
        "* Reasons for this could be missing documentation, expired insurance, or issues with data retrieval.\n",
        "\n",
        "6. **1 and 2**:\n",
        "\n",
        "* These categories are unclear without additional context. They might represent numerical codes associated with specific insurance types or validation statuses.\n",
        "* More information is needed to interpret their meaning accurately."
      ],
      "metadata": {
        "id": "efpeTJnqx35Q"
      }
    },
    {
      "cell_type": "code",
      "source": [
        "df.groupby(\"insurance_validation\")[\"price\"].sum().sort_values(ascending=False).plot(kind=\"bar\")"
      ],
      "metadata": {
        "colab": {
          "base_uri": "https://localhost:8080/",
          "height": 616
        },
        "id": "CsT3-Ua9wpWb",
        "outputId": "58f6fb64-d71b-4809-b6b3-49bbd3fb0d86"
      },
      "execution_count": 68,
      "outputs": [
        {
          "output_type": "execute_result",
          "data": {
            "text/plain": [
              "<Axes: xlabel='insurance_validation'>"
            ]
          },
          "metadata": {},
          "execution_count": 68
        },
        {
          "output_type": "display_data",
          "data": {
            "text/plain": [
              "<Figure size 640x480 with 1 Axes>"
            ],
            "image/png": "[encoded data removed]"
          },
          "metadata": {}
        }
      ]
    },
    {
      "cell_type": "code",
      "source": [
        "df.groupby(\"register_year\")[\"price\"].sum().sort_values(ascending=False)[:10].plot(kind=\"bar\")"
      ],
      "metadata": {
        "colab": {
          "base_uri": "https://localhost:8080/",
          "height": 508
        },
        "id": "cve-X5pJw0r-",
        "outputId": "3255d62a-5446-439a-9d64-1fcf74c92379"
      },
      "execution_count": 69,
      "outputs": [
        {
          "output_type": "execute_result",
          "data": {
            "text/plain": [
              "<Axes: xlabel='register_year'>"
            ]
          },
          "metadata": {},
          "execution_count": 69
        },
        {
          "output_type": "display_data",
          "data": {
            "text/plain": [
              "<Figure size 640x480 with 1 Axes>"
            ],
            "image/png": "[encoded data removed]"
          },
          "metadata": {}
        }
      ]
    },
    {
      "cell_type": "code",
      "source": [
        "df.groupby(\"car_variant_name\")[\"price\"].sum().sort_values(ascending=False)[:10].plot(kind=\"pie\")"
      ],
      "metadata": {
        "colab": {
          "base_uri": "https://localhost:8080/",
          "height": 423
        },
        "id": "nQ1lmirhHc0A",
        "outputId": "e861777b-b877-40c9-f98f-18497c811691"
      },
      "execution_count": 70,
      "outputs": [
        {
          "output_type": "execute_result",
          "data": {
            "text/plain": [
              "<Axes: ylabel='price'>"
            ]
          },
          "metadata": {},
          "execution_count": 70
        },
        {
          "output_type": "display_data",
          "data": {
            "text/plain": [
              "<Figure size 640x480 with 1 Axes>"
            ],
            "image/png": "[encoded data removed]"
          },
          "metadata": {}
        }
      ]
    },
    {
      "cell_type": "markdown",
      "source": [
        "#**finding Category variables by target price using spearman's correlation**"
      ],
      "metadata": {
        "id": "tv19sycezmO5"
      }
    },
    {
      "cell_type": "markdown",
      "source": [
        "**Spearman's Correlation Coefficient**:\n",
        "\n",
        "Measures the strength and direction of the monotonic relationship between two variables, even if it's not linear.\n",
        "\n",
        "**Ranges from -1 to +1**:\n",
        "\n",
        "* **-1**: Perfect negative correlation (as one variable increases, the other decreases perfectly).\n",
        "* **0**: No correlation (no relationship between the variables).\n",
        "* **+1**: Perfect positive correlation (as one variable increases, the other increases perfectly).\n",
        "\n",
        ">In your case, -0.0198 indicates a very weak negative correlation, meaning there's a slight tendency for Rating to decrease as level increases, but it's not a strong relationship.\n",
        "\n",
        "Image of Spearman correlation coefficient scaleOpens in a new window\n",
        "\n",
        "**Spearman correlation coefficient scale**\n",
        "\n",
        "**p-value**:\n",
        "\n",
        "Probability of observing a correlation coefficient as extreme or more extreme than the one calculated, **assuming there's no true correlation in the population**.\n",
        "\n",
        "* A common significance threshold is 0.05. **If p-value is below 0.05, we reject the null hypothesis of no correlation** and conclude there's a statistically significant correlation.\n",
        "\n",
        "* In your case, 0.2299 is higher than 0.05, **so we cannot reject the null hypothesis. We don't have enough evidence to conclude there's a statistically significant correlation between *level* and *Rating***"
      ],
      "metadata": {
        "id": "wFg1wIvnz9Ax"
      }
    },
    {
      "cell_type": "code",
      "source": [
        "from scipy.stats import spearmanr\n",
        "print(spearmanr(df[\"fuel_type\"],df[\"price_log\"]))"
      ],
      "metadata": {
        "colab": {
          "base_uri": "https://localhost:8080/"
        },
        "id": "I4e87EphxSaW",
        "outputId": "3088b811-70a6-4f67-e328-593a354c3492"
      },
      "execution_count": 71,
      "outputs": [
        {
          "output_type": "stream",
          "name": "stdout",
          "text": [
            "SignificanceResult(statistic=-0.26364352928083346, pvalue=9.746579588830552e-133)\n"
          ]
        }
      ]
    },
    {
      "cell_type": "code",
      "source": [
        "print(spearmanr(df[\"body_type\"],df[\"price_log\"])) # here p value less than 0.05 we reject null hypothesis moderately positive correlation"
      ],
      "metadata": {
        "colab": {
          "base_uri": "https://localhost:8080/"
        },
        "id": "5kdr9FLizdQW",
        "outputId": "1c1ee358-7748-4ae1-858b-e6dd9a483431"
      },
      "execution_count": 72,
      "outputs": [
        {
          "output_type": "stream",
          "name": "stdout",
          "text": [
            "SignificanceResult(statistic=0.39892981651631615, pvalue=0.0)\n"
          ]
        }
      ]
    },
    {
      "cell_type": "code",
      "source": [
        "print(spearmanr(df[\"car_type\"],df[\"price_log\"])) # negatively correlated"
      ],
      "metadata": {
        "colab": {
          "base_uri": "https://localhost:8080/"
        },
        "id": "wz8L4PVW0jgq",
        "outputId": "31f5c4fc-77f7-4537-dad2-68157c340b9d"
      },
      "execution_count": 73,
      "outputs": [
        {
          "output_type": "stream",
          "name": "stdout",
          "text": [
            "SignificanceResult(statistic=-0.5050802692168058, pvalue=0.0)\n"
          ]
        }
      ]
    },
    {
      "cell_type": "code",
      "source": [
        "print(spearmanr(df[\"original_equip_manufacture\"],df[\"price_log\"])) # no such relationship"
      ],
      "metadata": {
        "colab": {
          "base_uri": "https://localhost:8080/"
        },
        "id": "Ct3fk0z30wy1",
        "outputId": "57c547c8-53da-496d-c84e-7f8a89bcebb2"
      },
      "execution_count": 74,
      "outputs": [
        {
          "output_type": "stream",
          "name": "stdout",
          "text": [
            "SignificanceResult(statistic=0.0037830167878476102, pvalue=0.7296790973767755)\n"
          ]
        }
      ]
    },
    {
      "cell_type": "code",
      "source": [
        "print(spearmanr(df[\"owner\"],df[\"price_log\"])) # no such relationship"
      ],
      "metadata": {
        "colab": {
          "base_uri": "https://localhost:8080/"
        },
        "id": "sqW3xmbA17_5",
        "outputId": "26e8ad5e-b37d-44f3-ab7a-e32fd1cc7f71"
      },
      "execution_count": 75,
      "outputs": [
        {
          "output_type": "stream",
          "name": "stdout",
          "text": [
            "SignificanceResult(statistic=-0.2443048021191296, pvalue=1.1201654838614264e-113)\n"
          ]
        }
      ]
    },
    {
      "cell_type": "code",
      "source": [
        "print(spearmanr(df[\"milege\"],df[\"price_log\"])) # negative correlation but null hypothesis not rejected"
      ],
      "metadata": {
        "colab": {
          "base_uri": "https://localhost:8080/"
        },
        "id": "SAdbZCpG2Lgg",
        "outputId": "7aeaf168-858e-4a9c-b30d-2795a6f0ab3a"
      },
      "execution_count": 76,
      "outputs": [
        {
          "output_type": "stream",
          "name": "stdout",
          "text": [
            "SignificanceResult(statistic=-0.33362254946978376, pvalue=4.130619946418448e-216)\n"
          ]
        }
      ]
    },
    {
      "cell_type": "code",
      "source": [
        "print(spearmanr(df[\"seats\"],df[\"price_log\"])) # low positive correlation but null hypothesis not rejected"
      ],
      "metadata": {
        "colab": {
          "base_uri": "https://localhost:8080/"
        },
        "id": "pJt9LD8V2nYs",
        "outputId": "6ca3ddc9-b066-48d5-d433-584857c7145b"
      },
      "execution_count": 77,
      "outputs": [
        {
          "output_type": "stream",
          "name": "stdout",
          "text": [
            "SignificanceResult(statistic=0.20698067418601798, pvalue=1.9488047967652868e-81)\n"
          ]
        }
      ]
    },
    {
      "cell_type": "code",
      "source": [
        "print(spearmanr(df[\"insurance_validation\"],df[\"price_log\"])) # very low negative correlation null hypothesis not rejected"
      ],
      "metadata": {
        "colab": {
          "base_uri": "https://localhost:8080/"
        },
        "id": "yqTIvKaV23gu",
        "outputId": "58c83217-5bd1-4fdc-c750-d292964ffb43"
      },
      "execution_count": 78,
      "outputs": [
        {
          "output_type": "stream",
          "name": "stdout",
          "text": [
            "SignificanceResult(statistic=-0.11903425497085772, pvalue=1.0130824988810157e-27)\n"
          ]
        }
      ]
    },
    {
      "cell_type": "code",
      "source": [
        "print(spearmanr(df[\"register_year\"],df[\"price_log\"])) # positive correlation null hypothesis not rejected"
      ],
      "metadata": {
        "colab": {
          "base_uri": "https://localhost:8080/"
        },
        "id": "NfU7WWnm3JDN",
        "outputId": "0b20224a-8140-4eb4-81be-091f04add698"
      },
      "execution_count": 79,
      "outputs": [
        {
          "output_type": "stream",
          "name": "stdout",
          "text": [
            "SignificanceResult(statistic=0.24352780953836564, pvalue=6.037857384759001e-113)\n"
          ]
        }
      ]
    },
    {
      "cell_type": "code",
      "source": [
        "spearmanr(df[\"car_variant_name\"],df[\"price_log\"])"
      ],
      "metadata": {
        "colab": {
          "base_uri": "https://localhost:8080/"
        },
        "id": "l4pVW2c1HOYj",
        "outputId": "9dff634d-f913-4e4e-fde3-3c6441f9d603"
      },
      "execution_count": 80,
      "outputs": [
        {
          "output_type": "execute_result",
          "data": {
            "text/plain": [
              "SignificanceResult(statistic=-0.01880821093919966, pvalue=0.08577000923831875)"
            ]
          },
          "metadata": {},
          "execution_count": 80
        }
      ]
    },
    {
      "cell_type": "code",
      "source": [
        "x = df[[\"price_log\",\"owner_no_log\",\"model_year\"]].corr()"
      ],
      "metadata": {
        "id": "i67s4nxs3j2W"
      },
      "execution_count": 81,
      "outputs": []
    },
    {
      "cell_type": "code",
      "source": [
        "import seaborn as sns\n",
        "print(sns.heatmap(x,annot=True)) # model_year has 0.6 correlation which better to take into our model"
      ],
      "metadata": {
        "colab": {
          "base_uri": "https://localhost:8080/",
          "height": 452
        },
        "id": "DI2eyxe53jzf",
        "outputId": "613bda44-a279-44fc-a01d-7921e336c84b"
      },
      "execution_count": 82,
      "outputs": [
        {
          "output_type": "stream",
          "name": "stdout",
          "text": [
            "Axes(0.125,0.11;0.62x0.77)\n"
          ]
        },
        {
          "output_type": "display_data",
          "data": {
            "text/plain": [
              "<Figure size 640x480 with 2 Axes>"
            ],
            "image/png": "[encoded data removed]"
          },
          "metadata": {}
        }
      ]
    },
    {
      "cell_type": "code",
      "source": [
        "# model_year # numeric\n",
        "# body_type # one-hot\n",
        "# car_type # one-hot\n",
        "# register_year # frequency\n",
        "# seats # one-hot encoding\n",
        "# fuel_type # one-hot\n",
        "# Insurance_validation # one-hot"
      ],
      "metadata": {
        "id": "524GYyQw3jxR"
      },
      "execution_count": 83,
      "outputs": []
    },
    {
      "cell_type": "code",
      "source": [
        "len(df['register_year'].value_counts())"
      ],
      "metadata": {
        "colab": {
          "base_uri": "https://localhost:8080/"
        },
        "id": "F582Xr3s3jv3",
        "outputId": "9a07daa1-6950-4e01-c11a-e889b18b1871"
      },
      "execution_count": 84,
      "outputs": [
        {
          "output_type": "execute_result",
          "data": {
            "text/plain": [
              "216"
            ]
          },
          "metadata": {},
          "execution_count": 84
        }
      ]
    },
    {
      "cell_type": "code",
      "source": [
        "# Calculate category frequencies\n",
        "value_counts = df['register_year'].value_counts()\n",
        "\n",
        "# Create a dictionary mapping categories to frequencies\n",
        "freq_dict = value_counts.to_dict()\n",
        "\n",
        "# Add a new column with encoded values (frequency counts)\n",
        "df['register_year_freq'] = df['register_year'].replace(freq_dict)\n"
      ],
      "metadata": {
        "id": "H16P5wLg3jtA"
      },
      "execution_count": 85,
      "outputs": []
    },
    {
      "cell_type": "code",
      "source": [
        "# Calculate category frequencies\n",
        "value_counts = df['car_variant_name'].value_counts()\n",
        "\n",
        "# Create a dictionary mapping categories to frequencies\n",
        "freq_dict = value_counts.to_dict()\n",
        "\n",
        "# Add a new column with encoded values (frequency counts)\n",
        "df['car_varient_name_freq'] = df['car_variant_name'].replace(freq_dict)"
      ],
      "metadata": {
        "id": "TYg4_t3FHGBa"
      },
      "execution_count": 86,
      "outputs": []
    },
    {
      "cell_type": "code",
      "source": [],
      "metadata": {
        "id": "Df3-7P5zHGFD"
      },
      "execution_count": 86,
      "outputs": []
    },
    {
      "cell_type": "code",
      "source": [
        "# Calculate category frequencies\n",
        "value_counts = df['original_equip_manufacture'].value_counts()\n",
        "\n",
        "# Create a dictionary mapping categories to frequencies\n",
        "freq_dict = value_counts.to_dict()\n",
        "\n",
        "# Add a new column with encoded values (frequency counts)\n",
        "df['original_equip_manufacture_freq'] = df['original_equip_manufacture'].replace(freq_dict)"
      ],
      "metadata": {
        "id": "xKdP3Z_jHGH9"
      },
      "execution_count": 87,
      "outputs": []
    },
    {
      "cell_type": "code",
      "source": [
        "len(df[\"owner\"].value_counts())"
      ],
      "metadata": {
        "colab": {
          "base_uri": "https://localhost:8080/"
        },
        "id": "pozScPgdKVzp",
        "outputId": "65741562-bada-40a1-c81e-413f7c432e77"
      },
      "execution_count": 88,
      "outputs": [
        {
          "output_type": "execute_result",
          "data": {
            "text/plain": [
              "6"
            ]
          },
          "metadata": {},
          "execution_count": 88
        }
      ]
    },
    {
      "cell_type": "code",
      "source": [
        "df.head()"
      ],
      "metadata": {
        "colab": {
          "base_uri": "https://localhost:8080/",
          "height": 342
        },
        "id": "Y12SpNBi3jqh",
        "outputId": "080e8209-ea23-4917-c06b-73ce346f6157"
      },
      "execution_count": 89,
      "outputs": [
        {
          "output_type": "execute_result",
          "data": {
            "text/plain": [
              "  fuel_type  body_type kilometers   car_type  owner_no      owner  \\\n",
              "0    Petrol      Sedan     70,000  Automatic         3  3rd Owner   \n",
              "1    Petrol  Hatchback     23,981     Manual         1  1st Owner   \n",
              "2    Petrol        SUV      7,100  Automatic         1  1st Owner   \n",
              "3    Petrol  Hatchback     71,574     Manual         2  2nd Owner   \n",
              "4    Diesel        SUV     50,000  Automatic         2  2nd Owner   \n",
              "\n",
              "  original_equip_manufacture      car_model  model_year  \\\n",
              "0                     Toyota   Toyota Camry      2014.0   \n",
              "1                     Datsun  Datsun RediGO      2017.0   \n",
              "2                    Renault  Renault Kiger      2021.0   \n",
              "3                    Hyundai    Hyundai i20      2011.0   \n",
              "4                       Audi        Audi Q3      2014.0   \n",
              "\n",
              "         car_variant_name  ...                    chance_of_selling  \\\n",
              "0                  Hybrid  ...  High chances of sale in next 6 days   \n",
              "1                T Option  ...  High chances of sale in next 6 days   \n",
              "2                 RXT AMT  ...  High chances of sale in next 6 days   \n",
              "3              1.2 Sportz  ...  High chances of sale in next 6 days   \n",
              "4  35 TDI Quattro Premium  ...  High chances of sale in next 6 days   \n",
              "\n",
              "       milege    seats   insurance_validation register_year  price_log  \\\n",
              "0  19.16 kmpl  5 Seats  Third Party insurance         01-14  13.790193   \n",
              "1   22.7 kmpl  5 Seats          Comprehensive         07-17  12.491252   \n",
              "2  19.03 kmpl  5 Seats          Comprehensive         11-21  13.296317   \n",
              "3     17 kmpl  5 Seats            Third Party         02-12  12.314927   \n",
              "4  15.73 kmpl  5 Seats  Third Party insurance         01-14  13.997832   \n",
              "\n",
              "  owner_no_log  register_year_freq  car_varient_name_freq  \\\n",
              "0     1.098612                 204                      6   \n",
              "1     0.000000                  87                     15   \n",
              "2     0.000000                  38                      5   \n",
              "3     0.693147                  10                      9   \n",
              "4     0.693147                 204                      5   \n",
              "\n",
              "   original_equip_manufacture_freq  \n",
              "0                              324  \n",
              "1                               74  \n",
              "2                              310  \n",
              "3                             1649  \n",
              "4                              155  \n",
              "\n",
              "[5 rows x 22 columns]"
            ],
            "text/html": [
              "\n",
              "  <div id=\"df-141ba56b-348c-43e6-b273-79c3b9ab9523\" class=\"colab-df-container\">\n",
              "    <div>\n",
              "<style scoped>\n",
              "    .dataframe tbody tr th:only-of-type {\n",
              "        vertical-align: middle;\n",
              "    }\n",
              "\n",
              "    .dataframe tbody tr th {\n",
              "        vertical-align: top;\n",
              "    }\n",
              "\n",
              "    .dataframe thead th {\n",
              "        text-align: right;\n",
              "    }\n",
              "</style>\n",
              "<table border=\"1\" class=\"dataframe\">\n",
              "  <thead>\n",
              "    <tr style=\"text-align: right;\">\n",
              "      <th></th>\n",
              "      <th>fuel_type</th>\n",
              "      <th>body_type</th>\n",
              "      <th>kilometers</th>\n",
              "      <th>car_type</th>\n",
              "      <th>owner_no</th>\n",
              "      <th>owner</th>\n",
              "      <th>original_equip_manufacture</th>\n",
              "      <th>car_model</th>\n",
              "      <th>model_year</th>\n",
              "      <th>car_variant_name</th>\n",
              "      <th>...</th>\n",
              "      <th>chance_of_selling</th>\n",
              "      <th>milege</th>\n",
              "      <th>seats</th>\n",
              "      <th>insurance_validation</th>\n",
              "      <th>register_year</th>\n",
              "      <th>price_log</th>\n",
              "      <th>owner_no_log</th>\n",
              "      <th>register_year_freq</th>\n",
              "      <th>car_varient_name_freq</th>\n",
              "      <th>original_equip_manufacture_freq</th>\n",
              "    </tr>\n",
              "  </thead>\n",
              "  <tbody>\n",
              "    <tr>\n",
              "      <th>0</th>\n",
              "      <td>Petrol</td>\n",
              "      <td>Sedan</td>\n",
              "      <td>70,000</td>\n",
              "      <td>Automatic</td>\n",
              "      <td>3</td>\n",
              "      <td>3rd Owner</td>\n",
              "      <td>Toyota</td>\n",
              "      <td>Toyota Camry</td>\n",
              "      <td>2014.0</td>\n",
              "      <td>Hybrid</td>\n",
              "      <td>...</td>\n",
              "      <td>High chances of sale in next 6 days</td>\n",
              "      <td>19.16 kmpl</td>\n",
              "      <td>5 Seats</td>\n",
              "      <td>Third Party insurance</td>\n",
              "      <td>01-14</td>\n",
              "      <td>13.790193</td>\n",
              "      <td>1.098612</td>\n",
              "      <td>204</td>\n",
              "      <td>6</td>\n",
              "      <td>324</td>\n",
              "    </tr>\n",
              "    <tr>\n",
              "      <th>1</th>\n",
              "      <td>Petrol</td>\n",
              "      <td>Hatchback</td>\n",
              "      <td>23,981</td>\n",
              "      <td>Manual</td>\n",
              "      <td>1</td>\n",
              "      <td>1st Owner</td>\n",
              "      <td>Datsun</td>\n",
              "      <td>Datsun RediGO</td>\n",
              "      <td>2017.0</td>\n",
              "      <td>T Option</td>\n",
              "      <td>...</td>\n",
              "      <td>High chances of sale in next 6 days</td>\n",
              "      <td>22.7 kmpl</td>\n",
              "      <td>5 Seats</td>\n",
              "      <td>Comprehensive</td>\n",
              "      <td>07-17</td>\n",
              "      <td>12.491252</td>\n",
              "      <td>0.000000</td>\n",
              "      <td>87</td>\n",
              "      <td>15</td>\n",
              "      <td>74</td>\n",
              "    </tr>\n",
              "    <tr>\n",
              "      <th>2</th>\n",
              "      <td>Petrol</td>\n",
              "      <td>SUV</td>\n",
              "      <td>7,100</td>\n",
              "      <td>Automatic</td>\n",
              "      <td>1</td>\n",
              "      <td>1st Owner</td>\n",
              "      <td>Renault</td>\n",
              "      <td>Renault Kiger</td>\n",
              "      <td>2021.0</td>\n",
              "      <td>RXT AMT</td>\n",
              "      <td>...</td>\n",
              "      <td>High chances of sale in next 6 days</td>\n",
              "      <td>19.03 kmpl</td>\n",
              "      <td>5 Seats</td>\n",
              "      <td>Comprehensive</td>\n",
              "      <td>11-21</td>\n",
              "      <td>13.296317</td>\n",
              "      <td>0.000000</td>\n",
              "      <td>38</td>\n",
              "      <td>5</td>\n",
              "      <td>310</td>\n",
              "    </tr>\n",
              "    <tr>\n",
              "      <th>3</th>\n",
              "      <td>Petrol</td>\n",
              "      <td>Hatchback</td>\n",
              "      <td>71,574</td>\n",
              "      <td>Manual</td>\n",
              "      <td>2</td>\n",
              "      <td>2nd Owner</td>\n",
              "      <td>Hyundai</td>\n",
              "      <td>Hyundai i20</td>\n",
              "      <td>2011.0</td>\n",
              "      <td>1.2 Sportz</td>\n",
              "      <td>...</td>\n",
              "      <td>High chances of sale in next 6 days</td>\n",
              "      <td>17 kmpl</td>\n",
              "      <td>5 Seats</td>\n",
              "      <td>Third Party</td>\n",
              "      <td>02-12</td>\n",
              "      <td>12.314927</td>\n",
              "      <td>0.693147</td>\n",
              "      <td>10</td>\n",
              "      <td>9</td>\n",
              "      <td>1649</td>\n",
              "    </tr>\n",
              "    <tr>\n",
              "      <th>4</th>\n",
              "      <td>Diesel</td>\n",
              "      <td>SUV</td>\n",
              "      <td>50,000</td>\n",
              "      <td>Automatic</td>\n",
              "      <td>2</td>\n",
              "      <td>2nd Owner</td>\n",
              "      <td>Audi</td>\n",
              "      <td>Audi Q3</td>\n",
              "      <td>2014.0</td>\n",
              "      <td>35 TDI Quattro Premium</td>\n",
              "      <td>...</td>\n",
              "      <td>High chances of sale in next 6 days</td>\n",
              "      <td>15.73 kmpl</td>\n",
              "      <td>5 Seats</td>\n",
              "      <td>Third Party insurance</td>\n",
              "      <td>01-14</td>\n",
              "      <td>13.997832</td>\n",
              "      <td>0.693147</td>\n",
              "      <td>204</td>\n",
              "      <td>5</td>\n",
              "      <td>155</td>\n",
              "    </tr>\n",
              "  </tbody>\n",
              "</table>\n",
              "<p>5 rows × 22 columns</p>\n",
              "</div>\n",
              "    <div class=\"colab-df-buttons\">\n",
              "\n",
              "  <div class=\"colab-df-container\">\n",
              "    <button class=\"colab-df-convert\" onclick=\"convertToInteractive('df-141ba56b-348c-43e6-b273-79c3b9ab9523')\"\n",
              "            title=\"Convert this dataframe to an interactive table.\"\n",
              "            style=\"display:none;\">\n",
              "\n",
              "  <svg xmlns=\"http://www.w3.org/2000/svg\" height=\"24px\" viewBox=\"0 -960 960 960\">\n",
              "    <path d=\"M120-120v-720h720v720H120Zm60-500h600v-160H180v160Zm220 220h160v-160H400v160Zm0 220h160v-160H400v160ZM180-400h160v-160H180v160Zm440 0h160v-160H620v160ZM180-180h160v-160H180v160Zm440 0h160v-160H620v160Z\"/>\n",
              "  </svg>\n",
              "    </button>\n",
              "\n",
              "  <style>\n",
              "    .colab-df-container {\n",
              "      display:flex;\n",
              "      gap: 12px;\n",
              "    }\n",
              "\n",
              "    .colab-df-convert {\n",
              "      background-color: #E8F0FE;\n",
              "      border: none;\n",
              "      border-radius: 50%;\n",
              "      cursor: pointer;\n",
              "      display: none;\n",
              "      fill: #1967D2;\n",
              "      height: 32px;\n",
              "      padding: 0 0 0 0;\n",
              "      width: 32px;\n",
              "    }\n",
              "\n",
              "    .colab-df-convert:hover {\n",
              "      background-color: #E2EBFA;\n",
              "      box-shadow: 0px 1px 2px rgba(60, 64, 67, 0.3), 0px 1px 3px 1px rgba(60, 64, 67, 0.15);\n",
              "      fill: #174EA6;\n",
              "    }\n",
              "\n",
              "    .colab-df-buttons div {\n",
              "      margin-bottom: 4px;\n",
              "    }\n",
              "\n",
              "    [theme=dark] .colab-df-convert {\n",
              "      background-color: #3B4455;\n",
              "      fill: #D2E3FC;\n",
              "    }\n",
              "\n",
              "    [theme=dark] .colab-df-convert:hover {\n",
              "      background-color: #434B5C;\n",
              "      box-shadow: 0px 1px 3px 1px rgba(0, 0, 0, 0.15);\n",
              "      filter: drop-shadow(0px 1px 2px rgba(0, 0, 0, 0.3));\n",
              "      fill: #FFFFFF;\n",
              "    }\n",
              "  </style>\n",
              "\n",
              "    <script>\n",
              "      const buttonEl =\n",
              "        document.querySelector('#df-141ba56b-348c-43e6-b273-79c3b9ab9523 button.colab-df-convert');\n",
              "      buttonEl.style.display =\n",
              "        google.colab.kernel.accessAllowed ? 'block' : 'none';\n",
              "\n",
              "      async function convertToInteractive(key) {\n",
              "        const element = document.querySelector('#df-141ba56b-348c-43e6-b273-79c3b9ab9523');\n",
              "        const dataTable =\n",
              "          await google.colab.kernel.invokeFunction('convertToInteractive',\n",
              "                                                    [key], {});\n",
              "        if (!dataTable) return;\n",
              "\n",
              "        const docLinkHtml = 'Like what you see? Visit the ' +\n",
              "          '<a target=\"_blank\" href=https://colab.research.google.com/notebooks/data_table.ipynb>data table notebook</a>'\n",
              "          + ' to learn more about interactive tables.';\n",
              "        element.innerHTML = '';\n",
              "        dataTable['output_type'] = 'display_data';\n",
              "        await google.colab.output.renderOutput(dataTable, element);\n",
              "        const docLink = document.createElement('div');\n",
              "        docLink.innerHTML = docLinkHtml;\n",
              "        element.appendChild(docLink);\n",
              "      }\n",
              "    </script>\n",
              "  </div>\n",
              "\n",
              "\n",
              "<div id=\"df-dc993891-aa8b-42cc-9547-927ea1e5447e\">\n",
              "  <button class=\"colab-df-quickchart\" onclick=\"quickchart('df-dc993891-aa8b-42cc-9547-927ea1e5447e')\"\n",
              "            title=\"Suggest charts\"\n",
              "            style=\"display:none;\">\n",
              "\n",
              "<svg xmlns=\"http://www.w3.org/2000/svg\" height=\"24px\"viewBox=\"0 0 24 24\"\n",
              "     width=\"24px\">\n",
              "    <g>\n",
              "        <path d=\"M19 3H5c-1.1 0-2 .9-2 2v14c0 1.1.9 2 2 2h14c1.1 0 2-.9 2-2V5c0-1.1-.9-2-2-2zM9 17H7v-7h2v7zm4 0h-2V7h2v10zm4 0h-2v-4h2v4z\"/>\n",
              "    </g>\n",
              "</svg>\n",
              "  </button>\n",
              "\n",
              "<style>\n",
              "  .colab-df-quickchart {\n",
              "      --bg-color: #E8F0FE;\n",
              "      --fill-color: #1967D2;\n",
              "      --hover-bg-color: #E2EBFA;\n",
              "      --hover-fill-color: #174EA6;\n",
              "      --disabled-fill-color: #AAA;\n",
              "      --disabled-bg-color: #DDD;\n",
              "  }\n",
              "\n",
              "  [theme=dark] .colab-df-quickchart {\n",
              "      --bg-color: #3B4455;\n",
              "      --fill-color: #D2E3FC;\n",
              "      --hover-bg-color: #434B5C;\n",
              "      --hover-fill-color: #FFFFFF;\n",
              "      --disabled-bg-color: #3B4455;\n",
              "      --disabled-fill-color: #666;\n",
              "  }\n",
              "\n",
              "  .colab-df-quickchart {\n",
              "    background-color: var(--bg-color);\n",
              "    border: none;\n",
              "    border-radius: 50%;\n",
              "    cursor: pointer;\n",
              "    display: none;\n",
              "    fill: var(--fill-color);\n",
              "    height: 32px;\n",
              "    padding: 0;\n",
              "    width: 32px;\n",
              "  }\n",
              "\n",
              "  .colab-df-quickchart:hover {\n",
              "    background-color: var(--hover-bg-color);\n",
              "    box-shadow: 0 1px 2px rgba(60, 64, 67, 0.3), 0 1px 3px 1px rgba(60, 64, 67, 0.15);\n",
              "    fill: var(--button-hover-fill-color);\n",
              "  }\n",
              "\n",
              "  .colab-df-quickchart-complete:disabled,\n",
              "  .colab-df-quickchart-complete:disabled:hover {\n",
              "    background-color: var(--disabled-bg-color);\n",
              "    fill: var(--disabled-fill-color);\n",
              "    box-shadow: none;\n",
              "  }\n",
              "\n",
              "  .colab-df-spinner {\n",
              "    border: 2px solid var(--fill-color);\n",
              "    border-color: transparent;\n",
              "    border-bottom-color: var(--fill-color);\n",
              "    animation:\n",
              "      spin 1s steps(1) infinite;\n",
              "  }\n",
              "\n",
              "  @keyframes spin {\n",
              "    0% {\n",
              "      border-color: transparent;\n",
              "      border-bottom-color: var(--fill-color);\n",
              "      border-left-color: var(--fill-color);\n",
              "    }\n",
              "    20% {\n",
              "      border-color: transparent;\n",
              "      border-left-color: var(--fill-color);\n",
              "      border-top-color: var(--fill-color);\n",
              "    }\n",
              "    30% {\n",
              "      border-color: transparent;\n",
              "      border-left-color: var(--fill-color);\n",
              "      border-top-color: var(--fill-color);\n",
              "      border-right-color: var(--fill-color);\n",
              "    }\n",
              "    40% {\n",
              "      border-color: transparent;\n",
              "      border-right-color: var(--fill-color);\n",
              "      border-top-color: var(--fill-color);\n",
              "    }\n",
              "    60% {\n",
              "      border-color: transparent;\n",
              "      border-right-color: var(--fill-color);\n",
              "    }\n",
              "    80% {\n",
              "      border-color: transparent;\n",
              "      border-right-color: var(--fill-color);\n",
              "      border-bottom-color: var(--fill-color);\n",
              "    }\n",
              "    90% {\n",
              "      border-color: transparent;\n",
              "      border-bottom-color: var(--fill-color);\n",
              "    }\n",
              "  }\n",
              "</style>\n",
              "\n",
              "  <script>\n",
              "    async function quickchart(key) {\n",
              "      const quickchartButtonEl =\n",
              "        document.querySelector('#' + key + ' button');\n",
              "      quickchartButtonEl.disabled = true;  // To prevent multiple clicks.\n",
              "      quickchartButtonEl.classList.add('colab-df-spinner');\n",
              "      try {\n",
              "        const charts = await google.colab.kernel.invokeFunction(\n",
              "            'suggestCharts', [key], {});\n",
              "      } catch (error) {\n",
              "        console.error('Error during call to suggestCharts:', error);\n",
              "      }\n",
              "      quickchartButtonEl.classList.remove('colab-df-spinner');\n",
              "      quickchartButtonEl.classList.add('colab-df-quickchart-complete');\n",
              "    }\n",
              "    (() => {\n",
              "      let quickchartButtonEl =\n",
              "        document.querySelector('#df-dc993891-aa8b-42cc-9547-927ea1e5447e button');\n",
              "      quickchartButtonEl.style.display =\n",
              "        google.colab.kernel.accessAllowed ? 'block' : 'none';\n",
              "    })();\n",
              "  </script>\n",
              "</div>\n",
              "\n",
              "    </div>\n",
              "  </div>\n"
            ]
          },
          "metadata": {},
          "execution_count": 89
        }
      ]
    },
    {
      "cell_type": "markdown",
      "source": [
        "##**Applying Machine learning model**"
      ],
      "metadata": {
        "id": "MyMYfVjaBBXT"
      }
    },
    {
      "cell_type": "code",
      "source": [],
      "metadata": {
        "id": "Ixwpy4A23jk9"
      },
      "execution_count": 89,
      "outputs": []
    },
    {
      "cell_type": "code",
      "source": [
        "from sklearn.preprocessing import OneHotEncoder\n",
        "from sklearn.preprocessing import StandardScaler\n",
        "from sklearn.tree import DecisionTreeRegressor\n",
        "from sklearn.model_selection import train_test_split\n",
        "from sklearn.metrics import r2_score , mean_squared_error\n",
        "from sklearn.ensemble import RandomForestRegressor\n",
        "import xgboost as xgb\n",
        "\n",
        "# model_year # numeric\n",
        "# body_type # one-hot\n",
        "# car_type # one-hot\n",
        "# register_year # frequency\n",
        "# seats # one-hot encoding\n",
        "# fuel_type # one-hot\n",
        "# Insurance_validation # one-hot\n",
        "\n",
        "X = df.loc[:,[\"model_year\",\"register_year\",\"car_variant_name\",\"original_equip_manufacture\",\"body_type\",\"car_type\",\"seats\",\"fuel_type\",\"insurance_validation\",\"milege\",\"owner\"]]\n",
        "Y = df.loc[:,[\"price_log\"]]\n",
        "\n",
        "\n",
        "Ohe1 = OneHotEncoder(handle_unknown=\"ignore\")\n",
        "body_ohe = Ohe1.fit_transform(X[[\"body_type\"]]).toarray()\n",
        "\n",
        "Ohe2 = OneHotEncoder(handle_unknown=\"ignore\")\n",
        "car_ohe = Ohe2.fit_transform(X[[\"car_type\"]]).toarray()\n",
        "\n",
        "Ohe3 = OneHotEncoder(handle_unknown=\"ignore\")\n",
        "seats_ohe = Ohe3.fit_transform(X[[\"seats\"]]).toarray()\n",
        "\n",
        "Ohe4 = OneHotEncoder(handle_unknown=\"ignore\")\n",
        "fuel_ohe = Ohe4.fit_transform(X[[\"seats\"]]).toarray()\n",
        "\n",
        "Ohe5 = OneHotEncoder(handle_unknown=\"ignore\")\n",
        "insurance_ohe = Ohe5.fit_transform(X[[\"insurance_validation\"]]).toarray()\n",
        "\n",
        "Ohe6 = OneHotEncoder(handle_unknown=\"ignore\")\n",
        "mil_ohe = Ohe6.fit_transform(X[[\"milege\"]]).toarray()\n",
        "\n",
        "Ohe7 = OneHotEncoder(handle_unknown=\"ignore\")\n",
        "own_ohe = Ohe7.fit_transform(X[[\"owner\"]]).toarray()\n",
        "\n",
        "Ohe8 = OneHotEncoder(handle_unknown=\"ignore\")\n",
        "reg_year_ohe = Ohe8.fit_transform(X[[\"register_year\"]]).toarray()\n",
        "\n",
        "Ohe9 = OneHotEncoder(handle_unknown=\"ignore\")\n",
        "car_var_ohe = Ohe9.fit_transform(X[[\"car_variant_name\"]]).toarray()\n",
        "\n",
        "Ohe10 = OneHotEncoder(handle_unknown=\"ignore\")\n",
        "orig_eq_ohe = Ohe10.fit_transform(X[[\"original_equip_manufacture\"]]).toarray()\n",
        "\n",
        "\n",
        "\n",
        "X = np.concatenate((X[[\"model_year\"]].values , reg_year_ohe , car_var_ohe , orig_eq_ohe , body_ohe , car_ohe, seats_ohe , fuel_ohe , insurance_ohe , mil_ohe , own_ohe), axis=1)\n",
        "ss = StandardScaler()\n",
        "ss.fit_transform(X)\n",
        "\n",
        "x_train , x_test , y_train , y_test = train_test_split(X , Y , test_size = 0.2 , random_state = 1)\n",
        "\n",
        "# dtr = DecisionTreeRegressor(random_state=1)\n",
        "\n",
        "# dtr.fit(x_train,y_train)\n",
        "\n",
        "rfr = RandomForestRegressor(random_state=1)\n",
        "rfr.fit(x_train,y_train)\n",
        "\n",
        "# xg = xgb.XGBRegressor()\n",
        "# xg.fit(x_train,y_train)\n",
        "\n",
        "y_pred = rfr.predict(x_test)\n",
        "\n",
        "r2 = r2_score(y_test,y_pred)\n",
        "\n",
        "print(\"R2-score: \",r2)\n",
        "\n",
        "mse = mean_squared_error(y_test,y_pred)\n",
        "\n",
        "print(\"mean-squared-error: \",mse)\n"
      ],
      "metadata": {
        "colab": {
          "base_uri": "https://localhost:8080/"
        },
        "id": "SMt5sHT5A9t6",
        "outputId": "94f17df4-c837-49a5-e104-e7ac212ac450"
      },
      "execution_count": 90,
      "outputs": [
        {
          "output_type": "stream",
          "name": "stdout",
          "text": [
            "R2-score:  0.9101800155652101\n",
            "mean-squared-error:  0.05804534784017558\n"
          ]
        }
      ]
    },
    {
      "cell_type": "code",
      "source": [
        "rfr.score(x_train,y_train)"
      ],
      "metadata": {
        "colab": {
          "base_uri": "https://localhost:8080/"
        },
        "id": "wZB4n3YllxI-",
        "outputId": "14b034d8-14b7-4d74-edbc-b1a5a17ba2ea"
      },
      "execution_count": 91,
      "outputs": [
        {
          "output_type": "execute_result",
          "data": {
            "text/plain": [
              "0.9853974740023671"
            ]
          },
          "metadata": {},
          "execution_count": 91
        }
      ]
    },
    {
      "cell_type": "code",
      "source": [
        "new_test = np.array([[2020,\"01-20\",\"Hybrid\",\"Audi\",\"SUV\",\"Manual\",\"6 Seats\",\"Petrol\",\"Comprehensive\",\"17 kmpl\",\"1st Owner\"]])\n",
        "\n",
        "new_test_year = Ohe8.transform(new_test[:, [1]]).toarray()\n",
        "new_test_car_var = Ohe9.transform(new_test[:, [2]]).toarray()\n",
        "new_test_oem = Ohe10.transform(new_test[:,[3]]).toarray()\n",
        "new_test_body = Ohe1.transform(new_test[:,[4]]).toarray()\n",
        "new_test_car = Ohe2.transform(new_test[:,[5]]).toarray()\n",
        "new_test_seats = Ohe3.transform(new_test[:,[6]]).toarray()\n",
        "new_test_fuel = Ohe4.transform(new_test[:,[7]]).toarray()\n",
        "new_test_ins = Ohe5.transform(new_test[:,[8]]).toarray()\n",
        "new_test_mil = Ohe6.transform(new_test[:,[9]]).toarray()\n",
        "new_test_own = Ohe7.transform(new_test[:,[10]]).toarray()\n",
        "\n",
        "\n",
        "\n",
        "\n",
        "\n",
        "new_test = np.concatenate((new_test[:, [0]], new_test_year , new_test_car_var , new_test_oem , new_test_body , new_test_car , new_test_seats , new_test_fuel , new_test_ins , new_test_mil , new_test_own), axis=1)\n",
        "# print(new_test[0].shape)\n",
        "new_test1 = ss.transform(new_test)\n",
        "new_pred = rfr.predict(new_test1)\n",
        "print('Cardheko used car predicted price:', float(np.exp(new_pred)))"
      ],
      "metadata": {
        "colab": {
          "base_uri": "https://localhost:8080/"
        },
        "id": "5JXbX_rgA9wf",
        "outputId": "7d766019-a70d-4606-e3f0-b4a2338feb70"
      },
      "execution_count": 92,
      "outputs": [
        {
          "output_type": "stream",
          "name": "stdout",
          "text": [
            "Cardheko used car predicted price: 345011.53746515466\n"
          ]
        }
      ]
    },
    {
      "cell_type": "code",
      "source": [
        "from sklearn.model_selection import GridSearchCV\n",
        "from sklearn.ensemble import RandomForestRegressor\n",
        "\n",
        "# Assuming you have your X_train and y_train data ready\n",
        "\n",
        "# Define the hyperparameter grid\n",
        "param_grid = {\n",
        "    'n_estimators': [10, 50, 100],\n",
        "    'max_depth': [3, 5, 7],\n",
        "    'max_features': [2, \"sqrt\", \"log2\"]\n",
        "}\n",
        "\n",
        "# Create the RandomForestRegressor and GridSearchCV objects\n",
        "rf = RandomForestRegressor(random_state=1)\n",
        "grid_search = GridSearchCV(rf, param_grid, cv=5,scoring=\"r2\")\n",
        "\n",
        "# Fit the model and get the best parameters\n",
        "grid_search.fit(x_train, y_train)\n",
        "best_model = grid_search.best_estimator_\n",
        "best_params = grid_search.best_params_\n",
        "\n",
        "# Print the best parameters and score\n",
        "print(f\"Best parameters: {best_params}\")\n",
        "print(f\"Best score: {grid_search.best_score_}\")\n",
        "\n",
        "# Use the best model for prediction or further analysis\n"
      ],
      "metadata": {
        "colab": {
          "base_uri": "https://localhost:8080/"
        },
        "id": "JL8iURYsLOmv",
        "outputId": "055483d4-f30c-4026-da13-fc0364a1b7f1"
      },
      "execution_count": 93,
      "outputs": [
        {
          "output_type": "stream",
          "name": "stdout",
          "text": [
            "Best parameters: {'max_depth': 7, 'max_features': 'sqrt', 'n_estimators': 100}\n",
            "Best score: 0.3829426663261094\n"
          ]
        }
      ]
    },
    {
      "cell_type": "markdown",
      "source": [
        "1. **Overfitting**: During hyperparameter tuning, you might have explored parameter combinations that led to models overfitting the training data. This means the model performs well on the training set but poorly generalizes to unseen data. To check for overfitting, compare the training and validation R^2 scores. A large discrepancy indicates overfitting."
      ],
      "metadata": {
        "id": "al3wJl1HmoML"
      }
    },
    {
      "cell_type": "code",
      "source": [
        "best_model.score(x_train,y_train)"
      ],
      "metadata": {
        "colab": {
          "base_uri": "https://localhost:8080/"
        },
        "id": "X_gY2dAkLOpk",
        "outputId": "f7cd5ab3-1e6f-45aa-81d3-1ede76b340c0"
      },
      "execution_count": 94,
      "outputs": [
        {
          "output_type": "execute_result",
          "data": {
            "text/plain": [
              "0.40286569894444324"
            ]
          },
          "metadata": {},
          "execution_count": 94
        }
      ]
    },
    {
      "cell_type": "code",
      "source": [],
      "metadata": {
        "id": "xgqEbxl5A9y3"
      },
      "execution_count": 94,
      "outputs": []
    },
    {
      "cell_type": "code",
      "source": [],
      "metadata": {
        "id": "55tvWIWeA91O"
      },
      "execution_count": 94,
      "outputs": []
    },
    {
      "cell_type": "code",
      "source": [],
      "metadata": {
        "id": "S5QjVsjhA94G"
      },
      "execution_count": 94,
      "outputs": []
    },
    {
      "cell_type": "code",
      "source": [],
      "metadata": {
        "id": "yxH__eSr3XYN"
      },
      "execution_count": 94,
      "outputs": []
    }
  ]
}